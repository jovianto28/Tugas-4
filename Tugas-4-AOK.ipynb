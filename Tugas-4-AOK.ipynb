{
 "cells": [
  {
   "cell_type": "markdown",
   "metadata": {},
   "source": [
    "# 1. Uji Data Menggunakan test Alpha Cronbach"
   ]
  },
  {
   "cell_type": "code",
   "execution_count": 3,
   "metadata": {},
   "outputs": [],
   "source": [
    "datasurvey<-read.csv('Kelompok-10.csv')"
   ]
  },
  {
   "cell_type": "code",
   "execution_count": 4,
   "metadata": {},
   "outputs": [
    {
     "data": {
      "text/html": [
       "<table>\n",
       "<thead><tr><th scope=col>Q1</th><th scope=col>Q2</th><th scope=col>Q3</th><th scope=col>Q4</th><th scope=col>Q5</th><th scope=col>Q6</th><th scope=col>Q7</th><th scope=col>Q8</th><th scope=col>Q9</th><th scope=col>Q10</th></tr></thead>\n",
       "<tbody>\n",
       "\t<tr><td>4</td><td>4</td><td>4</td><td>4</td><td>4</td><td>4</td><td>4</td><td>4</td><td>4</td><td>4</td></tr>\n",
       "\t<tr><td>4</td><td>4</td><td>4</td><td>4</td><td>4</td><td>4</td><td>4</td><td>4</td><td>4</td><td>4</td></tr>\n",
       "\t<tr><td>5</td><td>5</td><td>5</td><td>4</td><td>4</td><td>4</td><td>3</td><td>3</td><td>4</td><td>4</td></tr>\n",
       "\t<tr><td>5</td><td>4</td><td>3</td><td>4</td><td>4</td><td>5</td><td>3</td><td>3</td><td>4</td><td>3</td></tr>\n",
       "\t<tr><td>5</td><td>4</td><td>4</td><td>4</td><td>4</td><td>4</td><td>4</td><td>4</td><td>4</td><td>4</td></tr>\n",
       "\t<tr><td>5</td><td>4</td><td>5</td><td>4</td><td>4</td><td>4</td><td>4</td><td>4</td><td>4</td><td>4</td></tr>\n",
       "</tbody>\n",
       "</table>\n"
      ],
      "text/latex": [
       "\\begin{tabular}{r|llllllllll}\n",
       " Q1 & Q2 & Q3 & Q4 & Q5 & Q6 & Q7 & Q8 & Q9 & Q10\\\\\n",
       "\\hline\n",
       "\t 4 & 4 & 4 & 4 & 4 & 4 & 4 & 4 & 4 & 4\\\\\n",
       "\t 4 & 4 & 4 & 4 & 4 & 4 & 4 & 4 & 4 & 4\\\\\n",
       "\t 5 & 5 & 5 & 4 & 4 & 4 & 3 & 3 & 4 & 4\\\\\n",
       "\t 5 & 4 & 3 & 4 & 4 & 5 & 3 & 3 & 4 & 3\\\\\n",
       "\t 5 & 4 & 4 & 4 & 4 & 4 & 4 & 4 & 4 & 4\\\\\n",
       "\t 5 & 4 & 5 & 4 & 4 & 4 & 4 & 4 & 4 & 4\\\\\n",
       "\\end{tabular}\n"
      ],
      "text/markdown": [
       "\n",
       "| Q1 | Q2 | Q3 | Q4 | Q5 | Q6 | Q7 | Q8 | Q9 | Q10 |\n",
       "|---|---|---|---|---|---|---|---|---|---|\n",
       "| 4 | 4 | 4 | 4 | 4 | 4 | 4 | 4 | 4 | 4 |\n",
       "| 4 | 4 | 4 | 4 | 4 | 4 | 4 | 4 | 4 | 4 |\n",
       "| 5 | 5 | 5 | 4 | 4 | 4 | 3 | 3 | 4 | 4 |\n",
       "| 5 | 4 | 3 | 4 | 4 | 5 | 3 | 3 | 4 | 3 |\n",
       "| 5 | 4 | 4 | 4 | 4 | 4 | 4 | 4 | 4 | 4 |\n",
       "| 5 | 4 | 5 | 4 | 4 | 4 | 4 | 4 | 4 | 4 |\n",
       "\n"
      ],
      "text/plain": [
       "  Q1 Q2 Q3 Q4 Q5 Q6 Q7 Q8 Q9 Q10\n",
       "1 4  4  4  4  4  4  4  4  4  4  \n",
       "2 4  4  4  4  4  4  4  4  4  4  \n",
       "3 5  5  5  4  4  4  3  3  4  4  \n",
       "4 5  4  3  4  4  5  3  3  4  3  \n",
       "5 5  4  4  4  4  4  4  4  4  4  \n",
       "6 5  4  5  4  4  4  4  4  4  4  "
      ]
     },
     "metadata": {},
     "output_type": "display_data"
    }
   ],
   "source": [
    "head(datasurvey)"
   ]
  },
  {
   "cell_type": "code",
   "execution_count": 5,
   "metadata": {},
   "outputs": [],
   "source": [
    "library('psych')"
   ]
  },
  {
   "cell_type": "code",
   "execution_count": 6,
   "metadata": {},
   "outputs": [
    {
     "data": {
      "text/plain": [
       "\n",
       "Reliability analysis   \n",
       "Call: alpha(x = datasurvey)\n",
       "\n",
       "  raw_alpha std.alpha G6(smc) average_r S/N    ase mean  sd median_r\n",
       "      0.89      0.89     0.9      0.46 8.4 0.0072    4 0.6     0.46\n",
       "\n",
       " lower alpha upper     95% confidence boundaries\n",
       "0.88 0.89 0.9 \n",
       "\n",
       " Reliability if an item is dropped:\n",
       "    raw_alpha std.alpha G6(smc) average_r S/N alpha se  var.r med.r\n",
       "Q1       0.88      0.89    0.89      0.46 7.8   0.0078 0.0066  0.46\n",
       "Q2       0.88      0.89    0.88      0.46 7.8   0.0077 0.0043  0.46\n",
       "Q3       0.88      0.88    0.88      0.46 7.5   0.0079 0.0055  0.46\n",
       "Q4       0.88      0.88    0.89      0.45 7.4   0.0081 0.0067  0.45\n",
       "Q5       0.88      0.88    0.89      0.46 7.6   0.0078 0.0063  0.46\n",
       "Q6       0.88      0.88    0.89      0.46 7.7   0.0079 0.0044  0.46\n",
       "Q7       0.88      0.88    0.88      0.45 7.4   0.0082 0.0050  0.46\n",
       "Q8       0.88      0.88    0.89      0.46 7.6   0.0080 0.0058  0.46\n",
       "Q9       0.87      0.88    0.88      0.45 7.2   0.0083 0.0056  0.45\n",
       "Q10      0.88      0.88    0.89      0.46 7.6   0.0079 0.0069  0.46\n",
       "\n",
       " Item statistics \n",
       "      n raw.r std.r r.cor r.drop mean   sd\n",
       "Q1  500  0.68  0.68  0.63   0.60  4.3 0.79\n",
       "Q2  500  0.66  0.68  0.65   0.58  4.3 0.73\n",
       "Q3  500  0.69  0.72  0.69   0.62  4.2 0.71\n",
       "Q4  500  0.74  0.74  0.70   0.66  3.9 0.85\n",
       "Q5  500  0.69  0.70  0.66   0.61  4.0 0.81\n",
       "Q6  500  0.73  0.69  0.66   0.63  3.7 1.06\n",
       "Q7  500  0.77  0.74  0.71   0.68  3.5 1.08\n",
       "Q8  500  0.72  0.71  0.66   0.63  3.8 0.92\n",
       "Q9  500  0.77  0.77  0.75   0.71  4.0 0.80\n",
       "Q10 500  0.69  0.71  0.66   0.62  4.1 0.70\n",
       "\n",
       "Non missing response frequency for each item\n",
       "       1    2    3    4    5 miss\n",
       "Q1  0.02 0.02 0.03 0.50 0.42    0\n",
       "Q2  0.01 0.02 0.03 0.51 0.43    0\n",
       "Q3  0.01 0.01 0.08 0.54 0.36    0\n",
       "Q4  0.02 0.06 0.18 0.56 0.20    0\n",
       "Q5  0.01 0.05 0.14 0.56 0.24    0\n",
       "Q6  0.02 0.15 0.18 0.42 0.23    0\n",
       "Q7  0.05 0.14 0.23 0.41 0.16    0\n",
       "Q8  0.01 0.10 0.15 0.54 0.19    0\n",
       "Q9  0.01 0.06 0.11 0.61 0.21    0\n",
       "Q10 0.01 0.02 0.07 0.65 0.25    0"
      ]
     },
     "metadata": {},
     "output_type": "display_data"
    },
    {
     "name": "stdout",
     "output_type": "stream",
     "text": [
      "[1] \"Q1 = Melalui internet mahasiswa dapat mengakses berbagai literatur dan referensi ilmu pengetahuan yang dibutuhkan dengan cepat, sehingga dapat memudahkan proses studinya\"\n",
      "[1] \"Q2 = E-Learning dapat menjadi efektif apabila adanya kerjasama antara pengajar dan siswanya untuk mensukseskannya, tanpa salah satu dari keduanya keberadaan E-Learning tidak akan berjalan secara lancar.\"\n",
      "[1] \"Q3 = Efektivitas dari E-Learning didukung oleh keahlian dan kreativitas pengajar dalam meracik materi yang akan disampaikan kepada peserta didiknya\"\n",
      "[1] \"Q4 = E-Learning dengan metode pembelajaran secara  formal, misalnya adalah pembelajaran dengan kurikulum, silabus, mata pelajaran dan tes yang telah diatur dan disusun berdasarkan jadwal yang telah disepakati pihak-pihak terkait (pengelola e-Learning dan pembelajar itu sendiri). Apakah anda setuju dengan metode ini?\"\n",
      "[1] \"Q5 = E-Learning  juga dilakukan secara informal dengan cara interaksi yang lebih sederhana, misalnya melalui sarana mailing list, e-newsletter atau website pribadi, organisasi, program (biasanya metode ini tidak memungut biaya). Apakah anda setuju dengan metode informal ini?\"\n",
      "[1] \"Q6 = Internet dengan metode belajar online memudahkan siswa maupun mahasiswa dalam berinteraksi dan mempelajari pelajaran yang di inginkan secara otodidak.\"\n",
      "[1] \"Q7 = Penggunaan E-learning untuk menunjang pelaksanaan  proses belajar dapat meningkatkan daya serap mahasiswa atas materi yang diajarkan.\"\n",
      "[1] \"Q8 = E-Learning  meningkatkan kemampuan belajar mandiri mahasiswa.\"\n",
      "[1] \"Q9 = E-Learning memanfaatkan jadwal pembelajaran, kurikulum, hasil kemajuan belajar, dan hal-hal yang berkaitan dengan administrasi pendidikan dapat dilihat setiap saat di komputer.\"\n",
      "[1] \"Q10 = E-Learning menggunakan bahan ajar bersifat mandiri (self learning materials) yang kemudian disimpan didalan komputer, sehingga dapat untuk diakses oleh doesen serta mahasiswa kapan saja dan dimanapun.\"\n"
     ]
    }
   ],
   "source": [
    "alpha(datasurvey)\n",
    "print('Q1 = Melalui internet mahasiswa dapat mengakses berbagai literatur dan referensi ilmu pengetahuan yang dibutuhkan dengan cepat, sehingga dapat memudahkan proses studinya')\n",
    "print('Q2 = E-Learning dapat menjadi efektif apabila adanya kerjasama antara pengajar dan siswanya untuk mensukseskannya, tanpa salah satu dari keduanya keberadaan E-Learning tidak akan berjalan secara lancar.')\n",
    "print('Q3 = Efektivitas dari E-Learning didukung oleh keahlian dan kreativitas pengajar dalam meracik materi yang akan disampaikan kepada peserta didiknya')\n",
    "print('Q4 = E-Learning dengan metode pembelajaran secara  formal, misalnya adalah pembelajaran dengan kurikulum, silabus, mata pelajaran dan tes yang telah diatur dan disusun berdasarkan jadwal yang telah disepakati pihak-pihak terkait (pengelola e-Learning dan pembelajar itu sendiri). Apakah anda setuju dengan metode ini?')\n",
    "print('Q5 = E-Learning  juga dilakukan secara informal dengan cara interaksi yang lebih sederhana, misalnya melalui sarana mailing list, e-newsletter atau website pribadi, organisasi, program (biasanya metode ini tidak memungut biaya). Apakah anda setuju dengan metode informal ini?')\n",
    "print('Q6 = Internet dengan metode belajar online memudahkan siswa maupun mahasiswa dalam berinteraksi dan mempelajari pelajaran yang di inginkan secara otodidak.')\n",
    "print('Q7 = Penggunaan E-learning untuk menunjang pelaksanaan  proses belajar dapat meningkatkan daya serap mahasiswa atas materi yang diajarkan.')\n",
    "print('Q8 = E-Learning  meningkatkan kemampuan belajar mandiri mahasiswa.')\n",
    "print('Q9 = E-Learning memanfaatkan jadwal pembelajaran, kurikulum, hasil kemajuan belajar, dan hal-hal yang berkaitan dengan administrasi pendidikan dapat dilihat setiap saat di komputer.')\n",
    "print('Q10 = E-Learning menggunakan bahan ajar bersifat mandiri (self learning materials) yang kemudian disimpan didalan komputer, sehingga dapat untuk diakses oleh doesen serta mahasiswa kapan saja dan dimanapun.')\n",
    "\t"
   ]
  },
  {
   "cell_type": "markdown",
   "metadata": {},
   "source": [
    "# 2. Uji Data menggunakan T-test"
   ]
  },
  {
   "cell_type": "code",
   "execution_count": 7,
   "metadata": {},
   "outputs": [],
   "source": [
    "datasurvey<-read.csv('Kelompok-10.csv')"
   ]
  },
  {
   "cell_type": "code",
   "execution_count": 8,
   "metadata": {},
   "outputs": [],
   "source": [
    "attach(datasurvey)"
   ]
  },
  {
   "cell_type": "code",
   "execution_count": 9,
   "metadata": {},
   "outputs": [
    {
     "data": {
      "text/html": [
       "<ol class=list-inline>\n",
       "\t<li>'Q1'</li>\n",
       "\t<li>'Q2'</li>\n",
       "\t<li>'Q3'</li>\n",
       "\t<li>'Q4'</li>\n",
       "\t<li>'Q5'</li>\n",
       "\t<li>'Q6'</li>\n",
       "\t<li>'Q7'</li>\n",
       "\t<li>'Q8'</li>\n",
       "\t<li>'Q9'</li>\n",
       "\t<li>'Q10'</li>\n",
       "</ol>\n"
      ],
      "text/latex": [
       "\\begin{enumerate*}\n",
       "\\item 'Q1'\n",
       "\\item 'Q2'\n",
       "\\item 'Q3'\n",
       "\\item 'Q4'\n",
       "\\item 'Q5'\n",
       "\\item 'Q6'\n",
       "\\item 'Q7'\n",
       "\\item 'Q8'\n",
       "\\item 'Q9'\n",
       "\\item 'Q10'\n",
       "\\end{enumerate*}\n"
      ],
      "text/markdown": [
       "1. 'Q1'\n",
       "2. 'Q2'\n",
       "3. 'Q3'\n",
       "4. 'Q4'\n",
       "5. 'Q5'\n",
       "6. 'Q6'\n",
       "7. 'Q7'\n",
       "8. 'Q8'\n",
       "9. 'Q9'\n",
       "10. 'Q10'\n",
       "\n",
       "\n"
      ],
      "text/plain": [
       " [1] \"Q1\"  \"Q2\"  \"Q3\"  \"Q4\"  \"Q5\"  \"Q6\"  \"Q7\"  \"Q8\"  \"Q9\"  \"Q10\""
      ]
     },
     "metadata": {},
     "output_type": "display_data"
    }
   ],
   "source": [
    "names(datasurvey)"
   ]
  },
  {
   "cell_type": "code",
   "execution_count": 10,
   "metadata": {},
   "outputs": [
    {
     "data": {
      "text/html": [
       "<ol class=list-inline>\n",
       "\t<li>500</li>\n",
       "\t<li>10</li>\n",
       "</ol>\n"
      ],
      "text/latex": [
       "\\begin{enumerate*}\n",
       "\\item 500\n",
       "\\item 10\n",
       "\\end{enumerate*}\n"
      ],
      "text/markdown": [
       "1. 500\n",
       "2. 10\n",
       "\n",
       "\n"
      ],
      "text/plain": [
       "[1] 500  10"
      ]
     },
     "metadata": {},
     "output_type": "display_data"
    }
   ],
   "source": [
    "dim(datasurvey)"
   ]
  },
  {
   "cell_type": "code",
   "execution_count": 11,
   "metadata": {},
   "outputs": [
    {
     "data": {
      "text/plain": [
       "\n",
       "\tPaired t-test\n",
       "\n",
       "data:  Q1 and Q2\n",
       "t = -1.026, df = 499, p-value = 0.3054\n",
       "alternative hypothesis: true difference in means is not equal to 0\n",
       "99 percent confidence interval:\n",
       " -0.13377129  0.05777129\n",
       "sample estimates:\n",
       "mean of the differences \n",
       "                 -0.038 \n"
      ]
     },
     "metadata": {},
     "output_type": "display_data"
    }
   ],
   "source": [
    "t.test(Q1, Q2, mu=0, alt=\"two.sided\", paired=T, conf.level=0.99)"
   ]
  },
  {
   "cell_type": "code",
   "execution_count": 12,
   "metadata": {},
   "outputs": [
    {
     "data": {
      "text/plain": [
       "\n",
       "\tPaired t-test\n",
       "\n",
       "data:  Q1 and Q3\n",
       "t = 1.3344, df = 499, p-value = 0.1827\n",
       "alternative hypothesis: true difference in means is not equal to 0\n",
       "99 percent confidence interval:\n",
       " -0.04501326  0.14101326\n",
       "sample estimates:\n",
       "mean of the differences \n",
       "                  0.048 \n"
      ]
     },
     "metadata": {},
     "output_type": "display_data"
    }
   ],
   "source": [
    "t.test(Q1, Q3, mu=0, alt=\"two.sided\", paired=T, conf.level=0.99)"
   ]
  },
  {
   "cell_type": "code",
   "execution_count": 13,
   "metadata": {},
   "outputs": [
    {
     "data": {
      "text/plain": [
       "\n",
       "\tPaired t-test\n",
       "\n",
       "data:  Q1 and Q4\n",
       "t = 11.238, df = 499, p-value < 2.2e-16\n",
       "alternative hypothesis: true difference in means is not equal to 0\n",
       "99 percent confidence interval:\n",
       " 0.3326025 0.5313975\n",
       "sample estimates:\n",
       "mean of the differences \n",
       "                  0.432 \n"
      ]
     },
     "metadata": {},
     "output_type": "display_data"
    }
   ],
   "source": [
    "t.test(Q1, Q4, mu=0, alt=\"two.sided\", paired=T, conf.level=0.99)"
   ]
  },
  {
   "cell_type": "code",
   "execution_count": 14,
   "metadata": {},
   "outputs": [
    {
     "data": {
      "text/plain": [
       "\n",
       "\tPaired t-test\n",
       "\n",
       "data:  Q1 and Q4\n",
       "t = 11.238, df = 499, p-value < 2.2e-16\n",
       "alternative hypothesis: true difference in means is not equal to 0\n",
       "99 percent confidence interval:\n",
       " 0.3326025 0.5313975\n",
       "sample estimates:\n",
       "mean of the differences \n",
       "                  0.432 \n"
      ]
     },
     "metadata": {},
     "output_type": "display_data"
    }
   ],
   "source": [
    "t.test(Q1, Q4, mu=0, alt=\"two.sided\", paired=T, conf.level=0.99)"
   ]
  },
  {
   "cell_type": "code",
   "execution_count": 15,
   "metadata": {},
   "outputs": [
    {
     "data": {
      "text/plain": [
       "\n",
       "\tPaired t-test\n",
       "\n",
       "data:  Q1 and Q6\n",
       "t = 13.408, df = 499, p-value < 2.2e-16\n",
       "alternative hypothesis: true difference in means is not equal to 0\n",
       "99 percent confidence interval:\n",
       " 0.4988211 0.7371789\n",
       "sample estimates:\n",
       "mean of the differences \n",
       "                  0.618 \n"
      ]
     },
     "metadata": {},
     "output_type": "display_data"
    }
   ],
   "source": [
    "t.test(Q1, Q6, mu=0, alt=\"two.sided\", paired=T, conf.level=0.99)"
   ]
  },
  {
   "cell_type": "code",
   "execution_count": 16,
   "metadata": {},
   "outputs": [
    {
     "data": {
      "text/plain": [
       "\n",
       "\tPaired t-test\n",
       "\n",
       "data:  Q1 and Q7\n",
       "t = 18.051, df = 499, p-value < 2.2e-16\n",
       "alternative hypothesis: true difference in means is not equal to 0\n",
       "99 percent confidence interval:\n",
       " 0.6819743 0.9100257\n",
       "sample estimates:\n",
       "mean of the differences \n",
       "                  0.796 \n"
      ]
     },
     "metadata": {},
     "output_type": "display_data"
    }
   ],
   "source": [
    "t.test(Q1, Q7, mu=0, alt=\"two.sided\", paired=T, conf.level=0.99)"
   ]
  },
  {
   "cell_type": "code",
   "execution_count": 17,
   "metadata": {},
   "outputs": [
    {
     "data": {
      "text/plain": [
       "\n",
       "\tPaired t-test\n",
       "\n",
       "data:  Q1 and Q8\n",
       "t = 11.949, df = 499, p-value < 2.2e-16\n",
       "alternative hypothesis: true difference in means is not equal to 0\n",
       "99 percent confidence interval:\n",
       " 0.3980694 0.6179306\n",
       "sample estimates:\n",
       "mean of the differences \n",
       "                  0.508 \n"
      ]
     },
     "metadata": {},
     "output_type": "display_data"
    }
   ],
   "source": [
    "t.test(Q1, Q8, mu=0, alt=\"two.sided\", paired=T, conf.level=0.99)"
   ]
  },
  {
   "cell_type": "code",
   "execution_count": 18,
   "metadata": {},
   "outputs": [
    {
     "data": {
      "text/plain": [
       "\n",
       "\tPaired t-test\n",
       "\n",
       "data:  Q1 and Q9\n",
       "t = 8.5069, df = 499, p-value < 2.2e-16\n",
       "alternative hypothesis: true difference in means is not equal to 0\n",
       "99 percent confidence interval:\n",
       " 0.235263 0.440737\n",
       "sample estimates:\n",
       "mean of the differences \n",
       "                  0.338 \n"
      ]
     },
     "metadata": {},
     "output_type": "display_data"
    }
   ],
   "source": [
    "t.test(Q1, Q9, mu=0, alt=\"two.sided\", paired=T, conf.level=0.99)"
   ]
  },
  {
   "cell_type": "code",
   "execution_count": 19,
   "metadata": {},
   "outputs": [
    {
     "data": {
      "text/plain": [
       "\n",
       "\tPaired t-test\n",
       "\n",
       "data:  Q1 and Q10\n",
       "t = 5.4627, df = 499, p-value = 7.413e-08\n",
       "alternative hypothesis: true difference in means is not equal to 0\n",
       "99 percent confidence interval:\n",
       " 0.09690479 0.27109521\n",
       "sample estimates:\n",
       "mean of the differences \n",
       "                  0.184 \n"
      ]
     },
     "metadata": {},
     "output_type": "display_data"
    }
   ],
   "source": [
    "t.test(Q1, Q10, mu=0, alt=\"two.sided\", paired=T, conf.level=0.99)"
   ]
  },
  {
   "cell_type": "code",
   "execution_count": 20,
   "metadata": {},
   "outputs": [
    {
     "data": {
      "text/plain": [
       "\n",
       "\tPaired t-test\n",
       "\n",
       "data:  Q2 and Q3\n",
       "t = 3.2081, df = 499, p-value = 0.001422\n",
       "alternative hypothesis: true difference in means is not equal to 0\n",
       "99 percent confidence interval:\n",
       " 0.01668322 0.15531678\n",
       "sample estimates:\n",
       "mean of the differences \n",
       "                  0.086 \n"
      ]
     },
     "metadata": {},
     "output_type": "display_data"
    }
   ],
   "source": [
    "t.test(Q2, Q3, mu=0, alt=\"two.sided\", paired=T, conf.level=0.99)"
   ]
  },
  {
   "cell_type": "code",
   "execution_count": 21,
   "metadata": {},
   "outputs": [
    {
     "data": {
      "text/plain": [
       "\n",
       "\tPaired t-test\n",
       "\n",
       "data:  Q2 and Q4\n",
       "t = 12.835, df = 499, p-value < 2.2e-16\n",
       "alternative hypothesis: true difference in means is not equal to 0\n",
       "99 percent confidence interval:\n",
       " 0.3753161 0.5646839\n",
       "sample estimates:\n",
       "mean of the differences \n",
       "                   0.47 \n"
      ]
     },
     "metadata": {},
     "output_type": "display_data"
    }
   ],
   "source": [
    "t.test(Q2, Q4, mu=0, alt=\"two.sided\", paired=T, conf.level=0.99)"
   ]
  },
  {
   "cell_type": "code",
   "execution_count": 22,
   "metadata": {},
   "outputs": [
    {
     "data": {
      "text/plain": [
       "\n",
       "\tPaired t-test\n",
       "\n",
       "data:  Q2 and Q5\n",
       "t = 9.7561, df = 499, p-value < 2.2e-16\n",
       "alternative hypothesis: true difference in means is not equal to 0\n",
       "99 percent confidence interval:\n",
       " 0.2557679 0.4402321\n",
       "sample estimates:\n",
       "mean of the differences \n",
       "                  0.348 \n"
      ]
     },
     "metadata": {},
     "output_type": "display_data"
    }
   ],
   "source": [
    "t.test(Q2, Q5, mu=0, alt=\"two.sided\", paired=T, conf.level=0.99)"
   ]
  },
  {
   "cell_type": "code",
   "execution_count": 23,
   "metadata": {},
   "outputs": [
    {
     "data": {
      "text/plain": [
       "\n",
       "\tPaired t-test\n",
       "\n",
       "data:  Q2 and Q6\n",
       "t = 13.172, df = 499, p-value < 2.2e-16\n",
       "alternative hypothesis: true difference in means is not equal to 0\n",
       "99 percent confidence interval:\n",
       " 0.5272248 0.7847752\n",
       "sample estimates:\n",
       "mean of the differences \n",
       "                  0.656 \n"
      ]
     },
     "metadata": {},
     "output_type": "display_data"
    }
   ],
   "source": [
    "t.test(Q2, Q6, mu=0, alt=\"two.sided\", paired=T, conf.level=0.99)"
   ]
  },
  {
   "cell_type": "code",
   "execution_count": 24,
   "metadata": {},
   "outputs": [
    {
     "data": {
      "text/plain": [
       "\n",
       "\tPaired t-test\n",
       "\n",
       "data:  Q2 and Q7\n",
       "t = 17.841, df = 499, p-value < 2.2e-16\n",
       "alternative hypothesis: true difference in means is not equal to 0\n",
       "99 percent confidence interval:\n",
       " 0.7131261 0.9548739\n",
       "sample estimates:\n",
       "mean of the differences \n",
       "                  0.834 \n"
      ]
     },
     "metadata": {},
     "output_type": "display_data"
    }
   ],
   "source": [
    "t.test(Q2, Q7, mu=0, alt=\"two.sided\", paired=T, conf.level=0.99)"
   ]
  },
  {
   "cell_type": "code",
   "execution_count": 25,
   "metadata": {},
   "outputs": [
    {
     "data": {
      "text/plain": [
       "\n",
       "\tPaired t-test\n",
       "\n",
       "data:  Q2 and Q8\n",
       "t = 12.717, df = 499, p-value < 2.2e-16\n",
       "alternative hypothesis: true difference in means is not equal to 0\n",
       "99 percent confidence interval:\n",
       " 0.434981 0.657019\n",
       "sample estimates:\n",
       "mean of the differences \n",
       "                  0.546 \n"
      ]
     },
     "metadata": {},
     "output_type": "display_data"
    }
   ],
   "source": [
    "t.test(Q2, Q8, mu=0, alt=\"two.sided\", paired=T, conf.level=0.99)"
   ]
  },
  {
   "cell_type": "code",
   "execution_count": 26,
   "metadata": {},
   "outputs": [
    {
     "data": {
      "text/plain": [
       "\n",
       "\tPaired t-test\n",
       "\n",
       "data:  Q2 and Q9\n",
       "t = 10.856, df = 499, p-value < 2.2e-16\n",
       "alternative hypothesis: true difference in means is not equal to 0\n",
       "99 percent confidence interval:\n",
       " 0.2864413 0.4655587\n",
       "sample estimates:\n",
       "mean of the differences \n",
       "                  0.376 \n"
      ]
     },
     "metadata": {},
     "output_type": "display_data"
    }
   ],
   "source": [
    "t.test(Q2, Q9, mu=0, alt=\"two.sided\", paired=T, conf.level=0.99)"
   ]
  },
  {
   "cell_type": "code",
   "execution_count": 27,
   "metadata": {},
   "outputs": [
    {
     "data": {
      "text/plain": [
       "\n",
       "\tPaired t-test\n",
       "\n",
       "data:  Q2 and Q10\n",
       "t = 6.5529, df = 499, p-value = 1.409e-10\n",
       "alternative hypothesis: true difference in means is not equal to 0\n",
       "99 percent confidence interval:\n",
       " 0.1344007 0.3095993\n",
       "sample estimates:\n",
       "mean of the differences \n",
       "                  0.222 \n"
      ]
     },
     "metadata": {},
     "output_type": "display_data"
    }
   ],
   "source": [
    "t.test(Q2, Q10, mu=0, alt=\"two.sided\", paired=T, conf.level=0.99)"
   ]
  },
  {
   "cell_type": "code",
   "execution_count": 28,
   "metadata": {},
   "outputs": [
    {
     "data": {
      "text/plain": [
       "\n",
       "\tPaired t-test\n",
       "\n",
       "data:  Q3 and Q4\n",
       "t = 10.619, df = 499, p-value < 2.2e-16\n",
       "alternative hypothesis: true difference in means is not equal to 0\n",
       "99 percent confidence interval:\n",
       " 0.2904948 0.4775052\n",
       "sample estimates:\n",
       "mean of the differences \n",
       "                  0.384 \n"
      ]
     },
     "metadata": {},
     "output_type": "display_data"
    }
   ],
   "source": [
    "t.test(Q3, Q4, mu=0, alt=\"two.sided\", paired=T, conf.level=0.99)"
   ]
  },
  {
   "cell_type": "code",
   "execution_count": 29,
   "metadata": {},
   "outputs": [
    {
     "data": {
      "text/plain": [
       "\n",
       "\tPaired t-test\n",
       "\n",
       "data:  Q3 and Q5\n",
       "t = 7.6496, df = 499, p-value = 1.046e-13\n",
       "alternative hypothesis: true difference in means is not equal to 0\n",
       "99 percent confidence interval:\n",
       " 0.1734393 0.3505607\n",
       "sample estimates:\n",
       "mean of the differences \n",
       "                  0.262 \n"
      ]
     },
     "metadata": {},
     "output_type": "display_data"
    }
   ],
   "source": [
    "t.test(Q3, Q5, mu=0, alt=\"two.sided\", paired=T, conf.level=0.99)"
   ]
  },
  {
   "cell_type": "code",
   "execution_count": 30,
   "metadata": {},
   "outputs": [
    {
     "data": {
      "text/plain": [
       "\n",
       "\tPaired t-test\n",
       "\n",
       "data:  Q3 and Q6\n",
       "t = 12.179, df = 499, p-value < 2.2e-16\n",
       "alternative hypothesis: true difference in means is not equal to 0\n",
       "99 percent confidence interval:\n",
       " 0.448979 0.691021\n",
       "sample estimates:\n",
       "mean of the differences \n",
       "                   0.57 \n"
      ]
     },
     "metadata": {},
     "output_type": "display_data"
    }
   ],
   "source": [
    "t.test(Q3, Q6, mu=0, alt=\"two.sided\", paired=T, conf.level=0.99)"
   ]
  },
  {
   "cell_type": "code",
   "execution_count": 31,
   "metadata": {},
   "outputs": [
    {
     "data": {
      "text/plain": [
       "\n",
       "\tPaired t-test\n",
       "\n",
       "data:  Q3 and Q7\n",
       "t = 16.104, df = 499, p-value < 2.2e-16\n",
       "alternative hypothesis: true difference in means is not equal to 0\n",
       "99 percent confidence interval:\n",
       " 0.6279016 0.8680984\n",
       "sample estimates:\n",
       "mean of the differences \n",
       "                  0.748 \n"
      ]
     },
     "metadata": {},
     "output_type": "display_data"
    }
   ],
   "source": [
    "t.test(Q3, Q7, mu=0, alt=\"two.sided\", paired=T, conf.level=0.99)"
   ]
  },
  {
   "cell_type": "code",
   "execution_count": 32,
   "metadata": {},
   "outputs": [
    {
     "data": {
      "text/plain": [
       "\n",
       "\tPaired t-test\n",
       "\n",
       "data:  Q3 and Q8\n",
       "t = 11.753, df = 499, p-value < 2.2e-16\n",
       "alternative hypothesis: true difference in means is not equal to 0\n",
       "99 percent confidence interval:\n",
       " 0.3587975 0.5612025\n",
       "sample estimates:\n",
       "mean of the differences \n",
       "                   0.46 \n"
      ]
     },
     "metadata": {},
     "output_type": "display_data"
    }
   ],
   "source": [
    "t.test(Q3, Q8, mu=0, alt=\"two.sided\", paired=T, conf.level=0.99)"
   ]
  },
  {
   "cell_type": "code",
   "execution_count": 33,
   "metadata": {},
   "outputs": [
    {
     "data": {
      "text/plain": [
       "\n",
       "\tPaired t-test\n",
       "\n",
       "data:  Q3 and Q9\n",
       "t = 8.111, df = 499, p-value = 3.926e-15\n",
       "alternative hypothesis: true difference in means is not equal to 0\n",
       "99 percent confidence interval:\n",
       " 0.19755 0.38245\n",
       "sample estimates:\n",
       "mean of the differences \n",
       "                   0.29 \n"
      ]
     },
     "metadata": {},
     "output_type": "display_data"
    }
   ],
   "source": [
    "t.test(Q3, Q9, mu=0, alt=\"two.sided\", paired=T, conf.level=0.99)"
   ]
  },
  {
   "cell_type": "code",
   "execution_count": 34,
   "metadata": {},
   "outputs": [
    {
     "data": {
      "text/plain": [
       "\n",
       "\tPaired t-test\n",
       "\n",
       "data:  Q3 and Q10\n",
       "t = 4.2231, df = 499, p-value = 2.864e-05\n",
       "alternative hypothesis: true difference in means is not equal to 0\n",
       "99 percent confidence interval:\n",
       " 0.05273017 0.21926983\n",
       "sample estimates:\n",
       "mean of the differences \n",
       "                  0.136 \n"
      ]
     },
     "metadata": {},
     "output_type": "display_data"
    }
   ],
   "source": [
    "t.test(Q3, Q10, mu=0, alt=\"two.sided\", paired=T, conf.level=0.99)"
   ]
  },
  {
   "cell_type": "code",
   "execution_count": 35,
   "metadata": {},
   "outputs": [
    {
     "data": {
      "text/plain": [
       "\n",
       "\tPaired t-test\n",
       "\n",
       "data:  Q4 and Q5\n",
       "t = -3.4197, df = 499, p-value = 0.0006784\n",
       "alternative hypothesis: true difference in means is not equal to 0\n",
       "99 percent confidence interval:\n",
       " -0.21424809 -0.02975191\n",
       "sample estimates:\n",
       "mean of the differences \n",
       "                 -0.122 \n"
      ]
     },
     "metadata": {},
     "output_type": "display_data"
    }
   ],
   "source": [
    "t.test(Q4, Q5, mu=0, alt=\"two.sided\", paired=T, conf.level=0.99)"
   ]
  },
  {
   "cell_type": "code",
   "execution_count": 36,
   "metadata": {},
   "outputs": [
    {
     "data": {
      "text/plain": [
       "\n",
       "\tPaired t-test\n",
       "\n",
       "data:  Q4 and Q6\n",
       "t = 4.1233, df = 499, p-value = 4.374e-05\n",
       "alternative hypothesis: true difference in means is not equal to 0\n",
       "99 percent confidence interval:\n",
       " 0.06935926 0.30264074\n",
       "sample estimates:\n",
       "mean of the differences \n",
       "                  0.186 \n"
      ]
     },
     "metadata": {},
     "output_type": "display_data"
    }
   ],
   "source": [
    "t.test(Q4, Q6, mu=0, alt=\"two.sided\", paired=T, conf.level=0.99)"
   ]
  },
  {
   "cell_type": "code",
   "execution_count": 37,
   "metadata": {},
   "outputs": [
    {
     "data": {
      "text/plain": [
       "\n",
       "\tPaired t-test\n",
       "\n",
       "data:  Q4 and Q7\n",
       "t = 7.9295, df = 499, p-value = 1.453e-14\n",
       "alternative hypothesis: true difference in means is not equal to 0\n",
       "99 percent confidence interval:\n",
       " 0.2453039 0.4826961\n",
       "sample estimates:\n",
       "mean of the differences \n",
       "                  0.364 \n"
      ]
     },
     "metadata": {},
     "output_type": "display_data"
    }
   ],
   "source": [
    "t.test(Q4, Q7, mu=0, alt=\"two.sided\", paired=T, conf.level=0.99)"
   ]
  },
  {
   "cell_type": "code",
   "execution_count": 38,
   "metadata": {},
   "outputs": [
    {
     "data": {
      "text/plain": [
       "\n",
       "\tPaired t-test\n",
       "\n",
       "data:  Q4 and Q8\n",
       "t = 1.8455, df = 499, p-value = 0.06555\n",
       "alternative hypothesis: true difference in means is not equal to 0\n",
       "99 percent confidence interval:\n",
       " -0.03048134  0.18248134\n",
       "sample estimates:\n",
       "mean of the differences \n",
       "                  0.076 \n"
      ]
     },
     "metadata": {},
     "output_type": "display_data"
    }
   ],
   "source": [
    "t.test(Q4, Q8, mu=0, alt=\"two.sided\", paired=T, conf.level=0.99)"
   ]
  },
  {
   "cell_type": "code",
   "execution_count": 39,
   "metadata": {},
   "outputs": [
    {
     "data": {
      "text/plain": [
       "\n",
       "\tPaired t-test\n",
       "\n",
       "data:  Q4 and Q9\n",
       "t = -2.6729, df = 499, p-value = 0.007767\n",
       "alternative hypothesis: true difference in means is not equal to 0\n",
       "99 percent confidence interval:\n",
       " -0.184935011 -0.003064989\n",
       "sample estimates:\n",
       "mean of the differences \n",
       "                 -0.094 \n"
      ]
     },
     "metadata": {},
     "output_type": "display_data"
    }
   ],
   "source": [
    "t.test(Q4, Q9, mu=0, alt=\"two.sided\", paired=T, conf.level=0.99)"
   ]
  },
  {
   "cell_type": "code",
   "execution_count": 40,
   "metadata": {},
   "outputs": [
    {
     "data": {
      "text/plain": [
       "\n",
       "\tPaired t-test\n",
       "\n",
       "data:  Q4 and Q10\n",
       "t = -6.6286, df = 499, p-value = 8.814e-11\n",
       "alternative hypothesis: true difference in means is not equal to 0\n",
       "99 percent confidence interval:\n",
       " -0.3447415 -0.1512585\n",
       "sample estimates:\n",
       "mean of the differences \n",
       "                 -0.248 \n"
      ]
     },
     "metadata": {},
     "output_type": "display_data"
    }
   ],
   "source": [
    "t.test(Q4, Q10, mu=0, alt=\"two.sided\", paired=T, conf.level=0.99)"
   ]
  },
  {
   "cell_type": "code",
   "execution_count": 41,
   "metadata": {},
   "outputs": [
    {
     "data": {
      "text/plain": [
       "\n",
       "\tPaired t-test\n",
       "\n",
       "data:  Q5 and Q6\n",
       "t = 6.6416, df = 499, p-value = 8.127e-11\n",
       "alternative hypothesis: true difference in means is not equal to 0\n",
       "99 percent confidence interval:\n",
       " 0.1880892 0.4279108\n",
       "sample estimates:\n",
       "mean of the differences \n",
       "                  0.308 \n"
      ]
     },
     "metadata": {},
     "output_type": "display_data"
    }
   ],
   "source": [
    "t.test(Q5, Q6, mu=0, alt=\"two.sided\", paired=T, conf.level=0.99)"
   ]
  },
  {
   "cell_type": "code",
   "execution_count": 42,
   "metadata": {},
   "outputs": [
    {
     "data": {
      "text/plain": [
       "\n",
       "\tPaired t-test\n",
       "\n",
       "data:  Q5 and Q7\n",
       "t = 9.9529, df = 499, p-value < 2.2e-16\n",
       "alternative hypothesis: true difference in means is not equal to 0\n",
       "99 percent confidence interval:\n",
       " 0.3597392 0.6122608\n",
       "sample estimates:\n",
       "mean of the differences \n",
       "                  0.486 \n"
      ]
     },
     "metadata": {},
     "output_type": "display_data"
    }
   ],
   "source": [
    "t.test(Q5, Q7, mu=0, alt=\"two.sided\", paired=T, conf.level=0.99)"
   ]
  },
  {
   "cell_type": "code",
   "execution_count": 43,
   "metadata": {},
   "outputs": [
    {
     "data": {
      "text/plain": [
       "\n",
       "\tPaired t-test\n",
       "\n",
       "data:  Q5 and Q8\n",
       "t = 4.5265, df = 499, p-value = 7.507e-06\n",
       "alternative hypothesis: true difference in means is not equal to 0\n",
       "99 percent confidence interval:\n",
       " 0.08489387 0.31110613\n",
       "sample estimates:\n",
       "mean of the differences \n",
       "                  0.198 \n"
      ]
     },
     "metadata": {},
     "output_type": "display_data"
    }
   ],
   "source": [
    "t.test(Q5, Q8, mu=0, alt=\"two.sided\", paired=T, conf.level=0.99)"
   ]
  },
  {
   "cell_type": "code",
   "execution_count": 44,
   "metadata": {},
   "outputs": [
    {
     "data": {
      "text/plain": [
       "\n",
       "\tPaired t-test\n",
       "\n",
       "data:  Q5 and Q9\n",
       "t = 0.76118, df = 499, p-value = 0.4469\n",
       "alternative hypothesis: true difference in means is not equal to 0\n",
       "99 percent confidence interval:\n",
       " -0.0671157  0.1231157\n",
       "sample estimates:\n",
       "mean of the differences \n",
       "                  0.028 \n"
      ]
     },
     "metadata": {},
     "output_type": "display_data"
    }
   ],
   "source": [
    "t.test(Q5, Q9, mu=0, alt=\"two.sided\", paired=T, conf.level=0.99)"
   ]
  },
  {
   "cell_type": "code",
   "execution_count": 45,
   "metadata": {},
   "outputs": [
    {
     "data": {
      "text/plain": [
       "\n",
       "\tPaired t-test\n",
       "\n",
       "data:  Q5 and Q10\n",
       "t = -3.4908, df = 499, p-value = 0.0005243\n",
       "alternative hypothesis: true difference in means is not equal to 0\n",
       "99 percent confidence interval:\n",
       " -0.21933165 -0.03266835\n",
       "sample estimates:\n",
       "mean of the differences \n",
       "                 -0.126 \n"
      ]
     },
     "metadata": {},
     "output_type": "display_data"
    }
   ],
   "source": [
    "t.test(Q5, Q10, mu=0, alt=\"two.sided\", paired=T, conf.level=0.99)"
   ]
  },
  {
   "cell_type": "code",
   "execution_count": 46,
   "metadata": {},
   "outputs": [
    {
     "data": {
      "text/plain": [
       "\n",
       "\tPaired t-test\n",
       "\n",
       "data:  Q6 and Q7\n",
       "t = 4.2427, df = 499, p-value = 2.633e-05\n",
       "alternative hypothesis: true difference in means is not equal to 0\n",
       "99 percent confidence interval:\n",
       " 0.06951836 0.28648164\n",
       "sample estimates:\n",
       "mean of the differences \n",
       "                  0.178 \n"
      ]
     },
     "metadata": {},
     "output_type": "display_data"
    }
   ],
   "source": [
    "t.test(Q6, Q7, mu=0, alt=\"two.sided\", paired=T, conf.level=0.99)"
   ]
  },
  {
   "cell_type": "code",
   "execution_count": 47,
   "metadata": {},
   "outputs": [
    {
     "data": {
      "text/plain": [
       "\n",
       "\tPaired t-test\n",
       "\n",
       "data:  Q6 and Q8\n",
       "t = -2.5106, df = 499, p-value = 0.01237\n",
       "alternative hypothesis: true difference in means is not equal to 0\n",
       "99 percent confidence interval:\n",
       " -0.223289828  0.003289828\n",
       "sample estimates:\n",
       "mean of the differences \n",
       "                  -0.11 \n"
      ]
     },
     "metadata": {},
     "output_type": "display_data"
    }
   ],
   "source": [
    "t.test(Q6, Q8, mu=0, alt=\"two.sided\", paired=T, conf.level=0.99)"
   ]
  },
  {
   "cell_type": "code",
   "execution_count": 48,
   "metadata": {},
   "outputs": [
    {
     "data": {
      "text/plain": [
       "\n",
       "\tPaired t-test\n",
       "\n",
       "data:  Q6 and Q9\n",
       "t = -6.9173, df = 499, p-value = 1.416e-11\n",
       "alternative hypothesis: true difference in means is not equal to 0\n",
       "99 percent confidence interval:\n",
       " -0.384665 -0.175335\n",
       "sample estimates:\n",
       "mean of the differences \n",
       "                  -0.28 \n"
      ]
     },
     "metadata": {},
     "output_type": "display_data"
    }
   ],
   "source": [
    "t.test(Q6, Q9, mu=0, alt=\"two.sided\", paired=T, conf.level=0.99)"
   ]
  },
  {
   "cell_type": "code",
   "execution_count": 49,
   "metadata": {},
   "outputs": [
    {
     "data": {
      "text/plain": [
       "\n",
       "\tPaired t-test\n",
       "\n",
       "data:  Q6 and Q10\n",
       "t = -9.6104, df = 499, p-value < 2.2e-16\n",
       "alternative hypothesis: true difference in means is not equal to 0\n",
       "99 percent confidence interval:\n",
       " -0.5507693 -0.3172307\n",
       "sample estimates:\n",
       "mean of the differences \n",
       "                 -0.434 \n"
      ]
     },
     "metadata": {},
     "output_type": "display_data"
    }
   ],
   "source": [
    "t.test(Q6, Q10, mu=0, alt=\"two.sided\", paired=T, conf.level=0.99)"
   ]
  },
  {
   "cell_type": "code",
   "execution_count": 50,
   "metadata": {},
   "outputs": [
    {
     "data": {
      "text/plain": [
       "\n",
       "\tPaired t-test\n",
       "\n",
       "data:  Q7 and Q8\n",
       "t = -6.9011, df = 499, p-value = 1.572e-11\n",
       "alternative hypothesis: true difference in means is not equal to 0\n",
       "99 percent confidence interval:\n",
       " -0.3959083 -0.1800917\n",
       "sample estimates:\n",
       "mean of the differences \n",
       "                 -0.288 \n"
      ]
     },
     "metadata": {},
     "output_type": "display_data"
    }
   ],
   "source": [
    "t.test(Q7, Q8, mu=0, alt=\"two.sided\", paired=T, conf.level=0.99)"
   ]
  },
  {
   "cell_type": "code",
   "execution_count": 51,
   "metadata": {},
   "outputs": [
    {
     "data": {
      "text/plain": [
       "\n",
       "\tPaired t-test\n",
       "\n",
       "data:  Q7 and Q9\n",
       "t = -11.553, df = 499, p-value < 2.2e-16\n",
       "alternative hypothesis: true difference in means is not equal to 0\n",
       "99 percent confidence interval:\n",
       " -0.5605072 -0.3554928\n",
       "sample estimates:\n",
       "mean of the differences \n",
       "                 -0.458 \n"
      ]
     },
     "metadata": {},
     "output_type": "display_data"
    }
   ],
   "source": [
    "t.test(Q7, Q9, mu=0, alt=\"two.sided\", paired=T, conf.level=0.99)"
   ]
  },
  {
   "cell_type": "code",
   "execution_count": 52,
   "metadata": {},
   "outputs": [
    {
     "data": {
      "text/plain": [
       "\n",
       "\tPaired t-test\n",
       "\n",
       "data:  Q7 and Q10\n",
       "t = -13.828, df = 499, p-value < 2.2e-16\n",
       "alternative hypothesis: true difference in means is not equal to 0\n",
       "99 percent confidence interval:\n",
       " -0.7264404 -0.4975596\n",
       "sample estimates:\n",
       "mean of the differences \n",
       "                 -0.612 \n"
      ]
     },
     "metadata": {},
     "output_type": "display_data"
    }
   ],
   "source": [
    "t.test(Q7, Q10, mu=0, alt=\"two.sided\", paired=T, conf.level=0.99)"
   ]
  },
  {
   "cell_type": "code",
   "execution_count": 53,
   "metadata": {},
   "outputs": [
    {
     "data": {
      "text/plain": [
       "\n",
       "\tPaired t-test\n",
       "\n",
       "data:  Q8 and Q9\n",
       "t = -4.472, df = 499, p-value = 9.603e-06\n",
       "alternative hypothesis: true difference in means is not equal to 0\n",
       "99 percent confidence interval:\n",
       " -0.26829436 -0.07170564\n",
       "sample estimates:\n",
       "mean of the differences \n",
       "                  -0.17 \n"
      ]
     },
     "metadata": {},
     "output_type": "display_data"
    }
   ],
   "source": [
    "t.test(Q8, Q9, mu=0, alt=\"two.sided\", paired=T, conf.level=0.99)"
   ]
  },
  {
   "cell_type": "code",
   "execution_count": 54,
   "metadata": {},
   "outputs": [
    {
     "data": {
      "text/plain": [
       "\n",
       "\tPaired t-test\n",
       "\n",
       "data:  Q8 and Q9\n",
       "t = -4.472, df = 499, p-value = 9.603e-06\n",
       "alternative hypothesis: true difference in means is not equal to 0\n",
       "99 percent confidence interval:\n",
       " -0.26829436 -0.07170564\n",
       "sample estimates:\n",
       "mean of the differences \n",
       "                  -0.17 \n"
      ]
     },
     "metadata": {},
     "output_type": "display_data"
    }
   ],
   "source": [
    "t.test(Q8, Q9, mu=0, alt=\"two.sided\", paired=T, conf.level=0.99)"
   ]
  },
  {
   "cell_type": "code",
   "execution_count": 55,
   "metadata": {},
   "outputs": [
    {
     "data": {
      "text/plain": [
       "\n",
       "\tPaired t-test\n",
       "\n",
       "data:  Q8 and Q10\n",
       "t = -8.4191, df = 499, p-value = 4.048e-16\n",
       "alternative hypothesis: true difference in means is not equal to 0\n",
       "99 percent confidence interval:\n",
       " -0.4235085 -0.2244915\n",
       "sample estimates:\n",
       "mean of the differences \n",
       "                 -0.324 \n"
      ]
     },
     "metadata": {},
     "output_type": "display_data"
    }
   ],
   "source": [
    "t.test(Q8, Q10, mu=0, alt=\"two.sided\", paired=T, conf.level=0.99)"
   ]
  },
  {
   "cell_type": "code",
   "execution_count": 56,
   "metadata": {},
   "outputs": [
    {
     "data": {
      "text/plain": [
       "\n",
       "\tPaired t-test\n",
       "\n",
       "data:  Q9 and Q10\n",
       "t = -4.5395, df = 499, p-value = 7.075e-06\n",
       "alternative hypothesis: true difference in means is not equal to 0\n",
       "99 percent confidence interval:\n",
       " -0.2417191 -0.0662809\n",
       "sample estimates:\n",
       "mean of the differences \n",
       "                 -0.154 \n"
      ]
     },
     "metadata": {},
     "output_type": "display_data"
    }
   ],
   "source": [
    "t.test(Q9, Q10, mu=0, alt=\"two.sided\", paired=T, conf.level=0.99)"
   ]
  },
  {
   "cell_type": "markdown",
   "metadata": {},
   "source": [
    "# 3. Uji data menggunakan Principal Component Analysis"
   ]
  },
  {
   "cell_type": "code",
   "execution_count": 68,
   "metadata": {},
   "outputs": [],
   "source": [
    "datasurvey<-read.csv('Kelompok-10.csv')"
   ]
  },
  {
   "cell_type": "code",
   "execution_count": 69,
   "metadata": {},
   "outputs": [
    {
     "data": {
      "text/html": [
       "<table>\n",
       "<thead><tr><th scope=col>Q1</th><th scope=col>Q2</th><th scope=col>Q3</th><th scope=col>Q4</th><th scope=col>Q5</th><th scope=col>Q6</th><th scope=col>Q7</th><th scope=col>Q8</th><th scope=col>Q9</th><th scope=col>Q10</th></tr></thead>\n",
       "<tbody>\n",
       "\t<tr><td>4</td><td>4</td><td>4</td><td>4</td><td>4</td><td>4</td><td>4</td><td>4</td><td>4</td><td>4</td></tr>\n",
       "\t<tr><td>4</td><td>4</td><td>4</td><td>4</td><td>4</td><td>4</td><td>4</td><td>4</td><td>4</td><td>4</td></tr>\n",
       "\t<tr><td>5</td><td>5</td><td>5</td><td>4</td><td>4</td><td>4</td><td>3</td><td>3</td><td>4</td><td>4</td></tr>\n",
       "\t<tr><td>5</td><td>4</td><td>3</td><td>4</td><td>4</td><td>5</td><td>3</td><td>3</td><td>4</td><td>3</td></tr>\n",
       "\t<tr><td>5</td><td>4</td><td>4</td><td>4</td><td>4</td><td>4</td><td>4</td><td>4</td><td>4</td><td>4</td></tr>\n",
       "\t<tr><td>5</td><td>4</td><td>5</td><td>4</td><td>4</td><td>4</td><td>4</td><td>4</td><td>4</td><td>4</td></tr>\n",
       "\t<tr><td>5</td><td>4</td><td>5</td><td>4</td><td>4</td><td>5</td><td>4</td><td>5</td><td>4</td><td>4</td></tr>\n",
       "\t<tr><td>5</td><td>5</td><td>5</td><td>5</td><td>5</td><td>5</td><td>5</td><td>5</td><td>5</td><td>5</td></tr>\n",
       "\t<tr><td>5</td><td>5</td><td>5</td><td>4</td><td>4</td><td>5</td><td>4</td><td>5</td><td>5</td><td>5</td></tr>\n",
       "\t<tr><td>4</td><td>4</td><td>4</td><td>4</td><td>4</td><td>4</td><td>4</td><td>4</td><td>4</td><td>4</td></tr>\n",
       "\t<tr><td>4</td><td>4</td><td>4</td><td>4</td><td>4</td><td>4</td><td>4</td><td>4</td><td>4</td><td>4</td></tr>\n",
       "\t<tr><td>5</td><td>5</td><td>5</td><td>5</td><td>5</td><td>4</td><td>4</td><td>3</td><td>5</td><td>5</td></tr>\n",
       "\t<tr><td>4</td><td>4</td><td>4</td><td>4</td><td>4</td><td>4</td><td>3</td><td>4</td><td>4</td><td>1</td></tr>\n",
       "\t<tr><td>5</td><td>5</td><td>4</td><td>3</td><td>3</td><td>4</td><td>3</td><td>4</td><td>4</td><td>5</td></tr>\n",
       "\t<tr><td>4</td><td>4</td><td>5</td><td>3</td><td>4</td><td>2</td><td>2</td><td>3</td><td>3</td><td>3</td></tr>\n",
       "\t<tr><td>5</td><td>4</td><td>4</td><td>4</td><td>4</td><td>4</td><td>4</td><td>4</td><td>4</td><td>4</td></tr>\n",
       "\t<tr><td>5</td><td>5</td><td>5</td><td>4</td><td>5</td><td>5</td><td>5</td><td>4</td><td>5</td><td>5</td></tr>\n",
       "\t<tr><td>5</td><td>5</td><td>5</td><td>5</td><td>5</td><td>5</td><td>5</td><td>5</td><td>5</td><td>5</td></tr>\n",
       "\t<tr><td>4</td><td>4</td><td>3</td><td>4</td><td>3</td><td>5</td><td>4</td><td>4</td><td>4</td><td>4</td></tr>\n",
       "\t<tr><td>4</td><td>4</td><td>4</td><td>4</td><td>4</td><td>4</td><td>4</td><td>4</td><td>4</td><td>4</td></tr>\n",
       "\t<tr><td>4</td><td>4</td><td>3</td><td>4</td><td>5</td><td>4</td><td>3</td><td>4</td><td>3</td><td>3</td></tr>\n",
       "\t<tr><td>5</td><td>5</td><td>5</td><td>5</td><td>5</td><td>5</td><td>5</td><td>5</td><td>5</td><td>5</td></tr>\n",
       "\t<tr><td>4</td><td>4</td><td>4</td><td>4</td><td>4</td><td>4</td><td>4</td><td>4</td><td>4</td><td>4</td></tr>\n",
       "\t<tr><td>4</td><td>4</td><td>4</td><td>4</td><td>4</td><td>4</td><td>4</td><td>4</td><td>4</td><td>4</td></tr>\n",
       "\t<tr><td>5</td><td>5</td><td>5</td><td>5</td><td>5</td><td>4</td><td>4</td><td>4</td><td>5</td><td>4</td></tr>\n",
       "\t<tr><td>4</td><td>5</td><td>5</td><td>4</td><td>4</td><td>4</td><td>4</td><td>4</td><td>4</td><td>4</td></tr>\n",
       "\t<tr><td>4</td><td>5</td><td>5</td><td>4</td><td>4</td><td>4</td><td>3</td><td>4</td><td>4</td><td>4</td></tr>\n",
       "\t<tr><td>5</td><td>3</td><td>4</td><td>2</td><td>4</td><td>4</td><td>4</td><td>2</td><td>2</td><td>4</td></tr>\n",
       "\t<tr><td>4</td><td>4</td><td>3</td><td>4</td><td>3</td><td>5</td><td>4</td><td>4</td><td>4</td><td>4</td></tr>\n",
       "\t<tr><td>4</td><td>4</td><td>4</td><td>4</td><td>4</td><td>4</td><td>4</td><td>4</td><td>4</td><td>4</td></tr>\n",
       "\t<tr><td>...</td><td>...</td><td>...</td><td>...</td><td>...</td><td>...</td><td>...</td><td>...</td><td>...</td><td>...</td></tr>\n",
       "\t<tr><td>4</td><td>4</td><td>4</td><td>4</td><td>4</td><td>4</td><td>4</td><td>4</td><td>4</td><td>4</td></tr>\n",
       "\t<tr><td>3</td><td>5</td><td>5</td><td>5</td><td>5</td><td>2</td><td>2</td><td>4</td><td>4</td><td>4</td></tr>\n",
       "\t<tr><td>5</td><td>5</td><td>4</td><td>5</td><td>4</td><td>4</td><td>4</td><td>4</td><td>5</td><td>4</td></tr>\n",
       "\t<tr><td>3</td><td>4</td><td>4</td><td>3</td><td>4</td><td>4</td><td>3</td><td>4</td><td>4</td><td>4</td></tr>\n",
       "\t<tr><td>4</td><td>4</td><td>3</td><td>3</td><td>4</td><td>3</td><td>2</td><td>3</td><td>2</td><td>2</td></tr>\n",
       "\t<tr><td>5</td><td>5</td><td>5</td><td>5</td><td>5</td><td>5</td><td>5</td><td>5</td><td>5</td><td>5</td></tr>\n",
       "\t<tr><td>5</td><td>5</td><td>5</td><td>4</td><td>5</td><td>3</td><td>3</td><td>3</td><td>4</td><td>5</td></tr>\n",
       "\t<tr><td>4</td><td>4</td><td>4</td><td>5</td><td>5</td><td>5</td><td>5</td><td>5</td><td>5</td><td>5</td></tr>\n",
       "\t<tr><td>4</td><td>5</td><td>5</td><td>4</td><td>3</td><td>4</td><td>3</td><td>4</td><td>4</td><td>4</td></tr>\n",
       "\t<tr><td>3</td><td>4</td><td>4</td><td>4</td><td>4</td><td>4</td><td>3</td><td>5</td><td>4</td><td>4</td></tr>\n",
       "\t<tr><td>5</td><td>4</td><td>4</td><td>3</td><td>4</td><td>2</td><td>4</td><td>3</td><td>4</td><td>4</td></tr>\n",
       "\t<tr><td>4</td><td>4</td><td>4</td><td>4</td><td>4</td><td>2</td><td>2</td><td>4</td><td>3</td><td>4</td></tr>\n",
       "\t<tr><td>5</td><td>5</td><td>5</td><td>5</td><td>5</td><td>5</td><td>5</td><td>5</td><td>5</td><td>5</td></tr>\n",
       "\t<tr><td>5</td><td>4</td><td>5</td><td>4</td><td>5</td><td>5</td><td>4</td><td>5</td><td>4</td><td>4</td></tr>\n",
       "\t<tr><td>2</td><td>4</td><td>4</td><td>4</td><td>3</td><td>1</td><td>1</td><td>2</td><td>2</td><td>4</td></tr>\n",
       "\t<tr><td>4</td><td>4</td><td>4</td><td>2</td><td>3</td><td>2</td><td>4</td><td>4</td><td>4</td><td>4</td></tr>\n",
       "\t<tr><td>5</td><td>5</td><td>5</td><td>5</td><td>4</td><td>4</td><td>4</td><td>2</td><td>4</td><td>5</td></tr>\n",
       "\t<tr><td>5</td><td>4</td><td>4</td><td>4</td><td>4</td><td>3</td><td>3</td><td>3</td><td>3</td><td>3</td></tr>\n",
       "\t<tr><td>5</td><td>2</td><td>4</td><td>3</td><td>4</td><td>4</td><td>2</td><td>4</td><td>2</td><td>5</td></tr>\n",
       "\t<tr><td>4</td><td>5</td><td>5</td><td>3</td><td>3</td><td>5</td><td>5</td><td>4</td><td>4</td><td>4</td></tr>\n",
       "\t<tr><td>5</td><td>5</td><td>5</td><td>5</td><td>5</td><td>3</td><td>4</td><td>4</td><td>4</td><td>4</td></tr>\n",
       "\t<tr><td>4</td><td>4</td><td>4</td><td>5</td><td>4</td><td>5</td><td>2</td><td>4</td><td>5</td><td>4</td></tr>\n",
       "\t<tr><td>4</td><td>4</td><td>4</td><td>4</td><td>4</td><td>4</td><td>4</td><td>4</td><td>4</td><td>4</td></tr>\n",
       "\t<tr><td>5</td><td>5</td><td>3</td><td>4</td><td>4</td><td>3</td><td>3</td><td>4</td><td>4</td><td>4</td></tr>\n",
       "\t<tr><td>5</td><td>5</td><td>5</td><td>4</td><td>4</td><td>2</td><td>4</td><td>4</td><td>4</td><td>4</td></tr>\n",
       "\t<tr><td>4</td><td>4</td><td>5</td><td>3</td><td>4</td><td>3</td><td>3</td><td>4</td><td>4</td><td>3</td></tr>\n",
       "\t<tr><td>4</td><td>4</td><td>4</td><td>4</td><td>4</td><td>4</td><td>4</td><td>4</td><td>4</td><td>4</td></tr>\n",
       "\t<tr><td>4</td><td>3</td><td>3</td><td>5</td><td>5</td><td>4</td><td>2</td><td>4</td><td>4</td><td>4</td></tr>\n",
       "\t<tr><td>5</td><td>5</td><td>5</td><td>5</td><td>5</td><td>5</td><td>5</td><td>5</td><td>5</td><td>5</td></tr>\n",
       "\t<tr><td>4</td><td>4</td><td>5</td><td>3</td><td>4</td><td>3</td><td>3</td><td>4</td><td>4</td><td>3</td></tr>\n",
       "</tbody>\n",
       "</table>\n"
      ],
      "text/latex": [
       "\\begin{tabular}{r|llllllllll}\n",
       " Q1 & Q2 & Q3 & Q4 & Q5 & Q6 & Q7 & Q8 & Q9 & Q10\\\\\n",
       "\\hline\n",
       "\t 4 & 4 & 4 & 4 & 4 & 4 & 4 & 4 & 4 & 4\\\\\n",
       "\t 4 & 4 & 4 & 4 & 4 & 4 & 4 & 4 & 4 & 4\\\\\n",
       "\t 5 & 5 & 5 & 4 & 4 & 4 & 3 & 3 & 4 & 4\\\\\n",
       "\t 5 & 4 & 3 & 4 & 4 & 5 & 3 & 3 & 4 & 3\\\\\n",
       "\t 5 & 4 & 4 & 4 & 4 & 4 & 4 & 4 & 4 & 4\\\\\n",
       "\t 5 & 4 & 5 & 4 & 4 & 4 & 4 & 4 & 4 & 4\\\\\n",
       "\t 5 & 4 & 5 & 4 & 4 & 5 & 4 & 5 & 4 & 4\\\\\n",
       "\t 5 & 5 & 5 & 5 & 5 & 5 & 5 & 5 & 5 & 5\\\\\n",
       "\t 5 & 5 & 5 & 4 & 4 & 5 & 4 & 5 & 5 & 5\\\\\n",
       "\t 4 & 4 & 4 & 4 & 4 & 4 & 4 & 4 & 4 & 4\\\\\n",
       "\t 4 & 4 & 4 & 4 & 4 & 4 & 4 & 4 & 4 & 4\\\\\n",
       "\t 5 & 5 & 5 & 5 & 5 & 4 & 4 & 3 & 5 & 5\\\\\n",
       "\t 4 & 4 & 4 & 4 & 4 & 4 & 3 & 4 & 4 & 1\\\\\n",
       "\t 5 & 5 & 4 & 3 & 3 & 4 & 3 & 4 & 4 & 5\\\\\n",
       "\t 4 & 4 & 5 & 3 & 4 & 2 & 2 & 3 & 3 & 3\\\\\n",
       "\t 5 & 4 & 4 & 4 & 4 & 4 & 4 & 4 & 4 & 4\\\\\n",
       "\t 5 & 5 & 5 & 4 & 5 & 5 & 5 & 4 & 5 & 5\\\\\n",
       "\t 5 & 5 & 5 & 5 & 5 & 5 & 5 & 5 & 5 & 5\\\\\n",
       "\t 4 & 4 & 3 & 4 & 3 & 5 & 4 & 4 & 4 & 4\\\\\n",
       "\t 4 & 4 & 4 & 4 & 4 & 4 & 4 & 4 & 4 & 4\\\\\n",
       "\t 4 & 4 & 3 & 4 & 5 & 4 & 3 & 4 & 3 & 3\\\\\n",
       "\t 5 & 5 & 5 & 5 & 5 & 5 & 5 & 5 & 5 & 5\\\\\n",
       "\t 4 & 4 & 4 & 4 & 4 & 4 & 4 & 4 & 4 & 4\\\\\n",
       "\t 4 & 4 & 4 & 4 & 4 & 4 & 4 & 4 & 4 & 4\\\\\n",
       "\t 5 & 5 & 5 & 5 & 5 & 4 & 4 & 4 & 5 & 4\\\\\n",
       "\t 4 & 5 & 5 & 4 & 4 & 4 & 4 & 4 & 4 & 4\\\\\n",
       "\t 4 & 5 & 5 & 4 & 4 & 4 & 3 & 4 & 4 & 4\\\\\n",
       "\t 5 & 3 & 4 & 2 & 4 & 4 & 4 & 2 & 2 & 4\\\\\n",
       "\t 4 & 4 & 3 & 4 & 3 & 5 & 4 & 4 & 4 & 4\\\\\n",
       "\t 4 & 4 & 4 & 4 & 4 & 4 & 4 & 4 & 4 & 4\\\\\n",
       "\t ... & ... & ... & ... & ... & ... & ... & ... & ... & ...\\\\\n",
       "\t 4 & 4 & 4 & 4 & 4 & 4 & 4 & 4 & 4 & 4\\\\\n",
       "\t 3 & 5 & 5 & 5 & 5 & 2 & 2 & 4 & 4 & 4\\\\\n",
       "\t 5 & 5 & 4 & 5 & 4 & 4 & 4 & 4 & 5 & 4\\\\\n",
       "\t 3 & 4 & 4 & 3 & 4 & 4 & 3 & 4 & 4 & 4\\\\\n",
       "\t 4 & 4 & 3 & 3 & 4 & 3 & 2 & 3 & 2 & 2\\\\\n",
       "\t 5 & 5 & 5 & 5 & 5 & 5 & 5 & 5 & 5 & 5\\\\\n",
       "\t 5 & 5 & 5 & 4 & 5 & 3 & 3 & 3 & 4 & 5\\\\\n",
       "\t 4 & 4 & 4 & 5 & 5 & 5 & 5 & 5 & 5 & 5\\\\\n",
       "\t 4 & 5 & 5 & 4 & 3 & 4 & 3 & 4 & 4 & 4\\\\\n",
       "\t 3 & 4 & 4 & 4 & 4 & 4 & 3 & 5 & 4 & 4\\\\\n",
       "\t 5 & 4 & 4 & 3 & 4 & 2 & 4 & 3 & 4 & 4\\\\\n",
       "\t 4 & 4 & 4 & 4 & 4 & 2 & 2 & 4 & 3 & 4\\\\\n",
       "\t 5 & 5 & 5 & 5 & 5 & 5 & 5 & 5 & 5 & 5\\\\\n",
       "\t 5 & 4 & 5 & 4 & 5 & 5 & 4 & 5 & 4 & 4\\\\\n",
       "\t 2 & 4 & 4 & 4 & 3 & 1 & 1 & 2 & 2 & 4\\\\\n",
       "\t 4 & 4 & 4 & 2 & 3 & 2 & 4 & 4 & 4 & 4\\\\\n",
       "\t 5 & 5 & 5 & 5 & 4 & 4 & 4 & 2 & 4 & 5\\\\\n",
       "\t 5 & 4 & 4 & 4 & 4 & 3 & 3 & 3 & 3 & 3\\\\\n",
       "\t 5 & 2 & 4 & 3 & 4 & 4 & 2 & 4 & 2 & 5\\\\\n",
       "\t 4 & 5 & 5 & 3 & 3 & 5 & 5 & 4 & 4 & 4\\\\\n",
       "\t 5 & 5 & 5 & 5 & 5 & 3 & 4 & 4 & 4 & 4\\\\\n",
       "\t 4 & 4 & 4 & 5 & 4 & 5 & 2 & 4 & 5 & 4\\\\\n",
       "\t 4 & 4 & 4 & 4 & 4 & 4 & 4 & 4 & 4 & 4\\\\\n",
       "\t 5 & 5 & 3 & 4 & 4 & 3 & 3 & 4 & 4 & 4\\\\\n",
       "\t 5 & 5 & 5 & 4 & 4 & 2 & 4 & 4 & 4 & 4\\\\\n",
       "\t 4 & 4 & 5 & 3 & 4 & 3 & 3 & 4 & 4 & 3\\\\\n",
       "\t 4 & 4 & 4 & 4 & 4 & 4 & 4 & 4 & 4 & 4\\\\\n",
       "\t 4 & 3 & 3 & 5 & 5 & 4 & 2 & 4 & 4 & 4\\\\\n",
       "\t 5 & 5 & 5 & 5 & 5 & 5 & 5 & 5 & 5 & 5\\\\\n",
       "\t 4 & 4 & 5 & 3 & 4 & 3 & 3 & 4 & 4 & 3\\\\\n",
       "\\end{tabular}\n"
      ],
      "text/markdown": [
       "\n",
       "| Q1 | Q2 | Q3 | Q4 | Q5 | Q6 | Q7 | Q8 | Q9 | Q10 |\n",
       "|---|---|---|---|---|---|---|---|---|---|\n",
       "| 4 | 4 | 4 | 4 | 4 | 4 | 4 | 4 | 4 | 4 |\n",
       "| 4 | 4 | 4 | 4 | 4 | 4 | 4 | 4 | 4 | 4 |\n",
       "| 5 | 5 | 5 | 4 | 4 | 4 | 3 | 3 | 4 | 4 |\n",
       "| 5 | 4 | 3 | 4 | 4 | 5 | 3 | 3 | 4 | 3 |\n",
       "| 5 | 4 | 4 | 4 | 4 | 4 | 4 | 4 | 4 | 4 |\n",
       "| 5 | 4 | 5 | 4 | 4 | 4 | 4 | 4 | 4 | 4 |\n",
       "| 5 | 4 | 5 | 4 | 4 | 5 | 4 | 5 | 4 | 4 |\n",
       "| 5 | 5 | 5 | 5 | 5 | 5 | 5 | 5 | 5 | 5 |\n",
       "| 5 | 5 | 5 | 4 | 4 | 5 | 4 | 5 | 5 | 5 |\n",
       "| 4 | 4 | 4 | 4 | 4 | 4 | 4 | 4 | 4 | 4 |\n",
       "| 4 | 4 | 4 | 4 | 4 | 4 | 4 | 4 | 4 | 4 |\n",
       "| 5 | 5 | 5 | 5 | 5 | 4 | 4 | 3 | 5 | 5 |\n",
       "| 4 | 4 | 4 | 4 | 4 | 4 | 3 | 4 | 4 | 1 |\n",
       "| 5 | 5 | 4 | 3 | 3 | 4 | 3 | 4 | 4 | 5 |\n",
       "| 4 | 4 | 5 | 3 | 4 | 2 | 2 | 3 | 3 | 3 |\n",
       "| 5 | 4 | 4 | 4 | 4 | 4 | 4 | 4 | 4 | 4 |\n",
       "| 5 | 5 | 5 | 4 | 5 | 5 | 5 | 4 | 5 | 5 |\n",
       "| 5 | 5 | 5 | 5 | 5 | 5 | 5 | 5 | 5 | 5 |\n",
       "| 4 | 4 | 3 | 4 | 3 | 5 | 4 | 4 | 4 | 4 |\n",
       "| 4 | 4 | 4 | 4 | 4 | 4 | 4 | 4 | 4 | 4 |\n",
       "| 4 | 4 | 3 | 4 | 5 | 4 | 3 | 4 | 3 | 3 |\n",
       "| 5 | 5 | 5 | 5 | 5 | 5 | 5 | 5 | 5 | 5 |\n",
       "| 4 | 4 | 4 | 4 | 4 | 4 | 4 | 4 | 4 | 4 |\n",
       "| 4 | 4 | 4 | 4 | 4 | 4 | 4 | 4 | 4 | 4 |\n",
       "| 5 | 5 | 5 | 5 | 5 | 4 | 4 | 4 | 5 | 4 |\n",
       "| 4 | 5 | 5 | 4 | 4 | 4 | 4 | 4 | 4 | 4 |\n",
       "| 4 | 5 | 5 | 4 | 4 | 4 | 3 | 4 | 4 | 4 |\n",
       "| 5 | 3 | 4 | 2 | 4 | 4 | 4 | 2 | 2 | 4 |\n",
       "| 4 | 4 | 3 | 4 | 3 | 5 | 4 | 4 | 4 | 4 |\n",
       "| 4 | 4 | 4 | 4 | 4 | 4 | 4 | 4 | 4 | 4 |\n",
       "| ... | ... | ... | ... | ... | ... | ... | ... | ... | ... |\n",
       "| 4 | 4 | 4 | 4 | 4 | 4 | 4 | 4 | 4 | 4 |\n",
       "| 3 | 5 | 5 | 5 | 5 | 2 | 2 | 4 | 4 | 4 |\n",
       "| 5 | 5 | 4 | 5 | 4 | 4 | 4 | 4 | 5 | 4 |\n",
       "| 3 | 4 | 4 | 3 | 4 | 4 | 3 | 4 | 4 | 4 |\n",
       "| 4 | 4 | 3 | 3 | 4 | 3 | 2 | 3 | 2 | 2 |\n",
       "| 5 | 5 | 5 | 5 | 5 | 5 | 5 | 5 | 5 | 5 |\n",
       "| 5 | 5 | 5 | 4 | 5 | 3 | 3 | 3 | 4 | 5 |\n",
       "| 4 | 4 | 4 | 5 | 5 | 5 | 5 | 5 | 5 | 5 |\n",
       "| 4 | 5 | 5 | 4 | 3 | 4 | 3 | 4 | 4 | 4 |\n",
       "| 3 | 4 | 4 | 4 | 4 | 4 | 3 | 5 | 4 | 4 |\n",
       "| 5 | 4 | 4 | 3 | 4 | 2 | 4 | 3 | 4 | 4 |\n",
       "| 4 | 4 | 4 | 4 | 4 | 2 | 2 | 4 | 3 | 4 |\n",
       "| 5 | 5 | 5 | 5 | 5 | 5 | 5 | 5 | 5 | 5 |\n",
       "| 5 | 4 | 5 | 4 | 5 | 5 | 4 | 5 | 4 | 4 |\n",
       "| 2 | 4 | 4 | 4 | 3 | 1 | 1 | 2 | 2 | 4 |\n",
       "| 4 | 4 | 4 | 2 | 3 | 2 | 4 | 4 | 4 | 4 |\n",
       "| 5 | 5 | 5 | 5 | 4 | 4 | 4 | 2 | 4 | 5 |\n",
       "| 5 | 4 | 4 | 4 | 4 | 3 | 3 | 3 | 3 | 3 |\n",
       "| 5 | 2 | 4 | 3 | 4 | 4 | 2 | 4 | 2 | 5 |\n",
       "| 4 | 5 | 5 | 3 | 3 | 5 | 5 | 4 | 4 | 4 |\n",
       "| 5 | 5 | 5 | 5 | 5 | 3 | 4 | 4 | 4 | 4 |\n",
       "| 4 | 4 | 4 | 5 | 4 | 5 | 2 | 4 | 5 | 4 |\n",
       "| 4 | 4 | 4 | 4 | 4 | 4 | 4 | 4 | 4 | 4 |\n",
       "| 5 | 5 | 3 | 4 | 4 | 3 | 3 | 4 | 4 | 4 |\n",
       "| 5 | 5 | 5 | 4 | 4 | 2 | 4 | 4 | 4 | 4 |\n",
       "| 4 | 4 | 5 | 3 | 4 | 3 | 3 | 4 | 4 | 3 |\n",
       "| 4 | 4 | 4 | 4 | 4 | 4 | 4 | 4 | 4 | 4 |\n",
       "| 4 | 3 | 3 | 5 | 5 | 4 | 2 | 4 | 4 | 4 |\n",
       "| 5 | 5 | 5 | 5 | 5 | 5 | 5 | 5 | 5 | 5 |\n",
       "| 4 | 4 | 5 | 3 | 4 | 3 | 3 | 4 | 4 | 3 |\n",
       "\n"
      ],
      "text/plain": [
       "    Q1  Q2  Q3  Q4  Q5  Q6  Q7  Q8  Q9  Q10\n",
       "1   4   4   4   4   4   4   4   4   4   4  \n",
       "2   4   4   4   4   4   4   4   4   4   4  \n",
       "3   5   5   5   4   4   4   3   3   4   4  \n",
       "4   5   4   3   4   4   5   3   3   4   3  \n",
       "5   5   4   4   4   4   4   4   4   4   4  \n",
       "6   5   4   5   4   4   4   4   4   4   4  \n",
       "7   5   4   5   4   4   5   4   5   4   4  \n",
       "8   5   5   5   5   5   5   5   5   5   5  \n",
       "9   5   5   5   4   4   5   4   5   5   5  \n",
       "10  4   4   4   4   4   4   4   4   4   4  \n",
       "11  4   4   4   4   4   4   4   4   4   4  \n",
       "12  5   5   5   5   5   4   4   3   5   5  \n",
       "13  4   4   4   4   4   4   3   4   4   1  \n",
       "14  5   5   4   3   3   4   3   4   4   5  \n",
       "15  4   4   5   3   4   2   2   3   3   3  \n",
       "16  5   4   4   4   4   4   4   4   4   4  \n",
       "17  5   5   5   4   5   5   5   4   5   5  \n",
       "18  5   5   5   5   5   5   5   5   5   5  \n",
       "19  4   4   3   4   3   5   4   4   4   4  \n",
       "20  4   4   4   4   4   4   4   4   4   4  \n",
       "21  4   4   3   4   5   4   3   4   3   3  \n",
       "22  5   5   5   5   5   5   5   5   5   5  \n",
       "23  4   4   4   4   4   4   4   4   4   4  \n",
       "24  4   4   4   4   4   4   4   4   4   4  \n",
       "25  5   5   5   5   5   4   4   4   5   4  \n",
       "26  4   5   5   4   4   4   4   4   4   4  \n",
       "27  4   5   5   4   4   4   3   4   4   4  \n",
       "28  5   3   4   2   4   4   4   2   2   4  \n",
       "29  4   4   3   4   3   5   4   4   4   4  \n",
       "30  4   4   4   4   4   4   4   4   4   4  \n",
       "... ... ... ... ... ... ... ... ... ... ...\n",
       "471 4   4   4   4   4   4   4   4   4   4  \n",
       "472 3   5   5   5   5   2   2   4   4   4  \n",
       "473 5   5   4   5   4   4   4   4   5   4  \n",
       "474 3   4   4   3   4   4   3   4   4   4  \n",
       "475 4   4   3   3   4   3   2   3   2   2  \n",
       "476 5   5   5   5   5   5   5   5   5   5  \n",
       "477 5   5   5   4   5   3   3   3   4   5  \n",
       "478 4   4   4   5   5   5   5   5   5   5  \n",
       "479 4   5   5   4   3   4   3   4   4   4  \n",
       "480 3   4   4   4   4   4   3   5   4   4  \n",
       "481 5   4   4   3   4   2   4   3   4   4  \n",
       "482 4   4   4   4   4   2   2   4   3   4  \n",
       "483 5   5   5   5   5   5   5   5   5   5  \n",
       "484 5   4   5   4   5   5   4   5   4   4  \n",
       "485 2   4   4   4   3   1   1   2   2   4  \n",
       "486 4   4   4   2   3   2   4   4   4   4  \n",
       "487 5   5   5   5   4   4   4   2   4   5  \n",
       "488 5   4   4   4   4   3   3   3   3   3  \n",
       "489 5   2   4   3   4   4   2   4   2   5  \n",
       "490 4   5   5   3   3   5   5   4   4   4  \n",
       "491 5   5   5   5   5   3   4   4   4   4  \n",
       "492 4   4   4   5   4   5   2   4   5   4  \n",
       "493 4   4   4   4   4   4   4   4   4   4  \n",
       "494 5   5   3   4   4   3   3   4   4   4  \n",
       "495 5   5   5   4   4   2   4   4   4   4  \n",
       "496 4   4   5   3   4   3   3   4   4   3  \n",
       "497 4   4   4   4   4   4   4   4   4   4  \n",
       "498 4   3   3   5   5   4   2   4   4   4  \n",
       "499 5   5   5   5   5   5   5   5   5   5  \n",
       "500 4   4   5   3   4   3   3   4   4   3  "
      ]
     },
     "metadata": {},
     "output_type": "display_data"
    }
   ],
   "source": [
    "datasurvey"
   ]
  },
  {
   "cell_type": "code",
   "execution_count": null,
   "metadata": {},
   "outputs": [],
   "source": [
    "attach(Survdata)"
   ]
  },
  {
   "cell_type": "code",
   "execution_count": 72,
   "metadata": {},
   "outputs": [],
   "source": [
    "# efine Variablessummary(x)\n",
    "x <- cbind(Q1,Q2,Q3,Q4,Q5,Q6,Q7,Q8,Q9,Q10)"
   ]
  },
  {
   "cell_type": "code",
   "execution_count": 74,
   "metadata": {},
   "outputs": [
    {
     "data": {
      "text/plain": [
       "       Q1              Q2             Q3              Q4             Q5       \n",
       " Min.   :1.000   Min.   :1.00   Min.   :1.000   Min.   :1.00   Min.   :1.000  \n",
       " 1st Qu.:4.000   1st Qu.:4.00   1st Qu.:4.000   1st Qu.:4.00   1st Qu.:4.000  \n",
       " Median :4.000   Median :4.00   Median :4.000   Median :4.00   Median :4.000  \n",
       " Mean   :4.292   Mean   :4.33   Mean   :4.244   Mean   :3.86   Mean   :3.982  \n",
       " 3rd Qu.:5.000   3rd Qu.:5.00   3rd Qu.:5.000   3rd Qu.:4.00   3rd Qu.:4.000  \n",
       " Max.   :5.000   Max.   :5.00   Max.   :5.000   Max.   :5.00   Max.   :5.000  \n",
       "       Q6              Q7              Q8              Q9       \n",
       " Min.   :1.000   Min.   :1.000   Min.   :1.000   Min.   :1.000  \n",
       " 1st Qu.:3.000   1st Qu.:3.000   1st Qu.:3.000   1st Qu.:4.000  \n",
       " Median :4.000   Median :4.000   Median :4.000   Median :4.000  \n",
       " Mean   :3.674   Mean   :3.496   Mean   :3.784   Mean   :3.954  \n",
       " 3rd Qu.:4.000   3rd Qu.:4.000   3rd Qu.:4.000   3rd Qu.:4.000  \n",
       " Max.   :5.000   Max.   :5.000   Max.   :5.000   Max.   :5.000  \n",
       "      Q10       \n",
       " Min.   :1.000  \n",
       " 1st Qu.:4.000  \n",
       " Median :4.000  \n",
       " Mean   :4.108  \n",
       " 3rd Qu.:4.000  \n",
       " Max.   :5.000  "
      ]
     },
     "metadata": {},
     "output_type": "display_data"
    },
    {
     "data": {
      "text/html": [
       "<table>\n",
       "<thead><tr><th></th><th scope=col>Q1</th><th scope=col>Q2</th><th scope=col>Q3</th><th scope=col>Q4</th><th scope=col>Q5</th><th scope=col>Q6</th><th scope=col>Q7</th><th scope=col>Q8</th><th scope=col>Q9</th><th scope=col>Q10</th></tr></thead>\n",
       "<tbody>\n",
       "\t<tr><th scope=row>Q1</th><td>1.0000000</td><td>0.4050798</td><td>0.4257923</td><td>0.4522012</td><td>0.4693113</td><td>0.4069258</td><td>0.4786539</td><td>0.3864669</td><td>0.3781172</td><td>0.4924749</td></tr>\n",
       "\t<tr><th scope=row>Q2</th><td>0.4050798</td><td>1.0000000</td><td>0.6492208</td><td>0.4685826</td><td>0.4681348</td><td>0.2633589</td><td>0.3819102</td><td>0.3337100</td><td>0.4904494</td><td>0.4329908</td></tr>\n",
       "\t<tr><th scope=row>Q3</th><td>0.4257923</td><td>0.6492208</td><td>1.0000000</td><td>0.4718074</td><td>0.4996827</td><td>0.3487295</td><td>0.3831009</td><td>0.4415681</td><td>0.4443380</td><td>0.4724015</td></tr>\n",
       "\t<tr><th scope=row>Q4</th><td>0.4522012</td><td>0.4685826</td><td>0.4718074</td><td>1.0000000</td><td>0.5409508</td><td>0.4577199</td><td>0.4540685</td><td>0.4580557</td><td>0.5484912</td><td>0.4285152</td></tr>\n",
       "\t<tr><th scope=row>Q5</th><td>0.4693113</td><td>0.4681348</td><td>0.4996827</td><td>0.5409508</td><td>1.0000000</td><td>0.4098306</td><td>0.3614414</td><td>0.3655721</td><td>0.4828599</td><td>0.4379833</td></tr>\n",
       "\t<tr><th scope=row>Q6</th><td>0.4069258</td><td>0.2633589</td><td>0.3487295</td><td>0.4577199</td><td>0.4098306</td><td>1.0000000</td><td>0.6145128</td><td>0.5147971</td><td>0.5557026</td><td>0.3961426</td></tr>\n",
       "\t<tr><th scope=row>Q7</th><td>0.4786539</td><td>0.3819102</td><td>0.3831009</td><td>0.4540685</td><td>0.3614414</td><td>0.6145128</td><td>1.0000000</td><td>0.5729292</td><td>0.5905553</td><td>0.4457942</td></tr>\n",
       "\t<tr><th scope=row>Q8</th><td>0.3864669</td><td>0.3337100</td><td>0.4415681</td><td>0.4580557</td><td>0.3655721</td><td>0.5147971</td><td>0.5729292</td><td>1.0000000</td><td>0.5176080</td><td>0.4574640</td></tr>\n",
       "\t<tr><th scope=row>Q9</th><td>0.3781172</td><td>0.4904494</td><td>0.4443380</td><td>0.5484912</td><td>0.4828599</td><td>0.5557026</td><td>0.5905553</td><td>0.5176080</td><td>1.0000000</td><td>0.4959666</td></tr>\n",
       "\t<tr><th scope=row>Q10</th><td>0.4924749</td><td>0.4329908</td><td>0.4724015</td><td>0.4285152</td><td>0.4379833</td><td>0.3961426</td><td>0.4457942</td><td>0.4574640</td><td>0.4959666</td><td>1.0000000</td></tr>\n",
       "</tbody>\n",
       "</table>\n"
      ],
      "text/latex": [
       "\\begin{tabular}{r|llllllllll}\n",
       "  & Q1 & Q2 & Q3 & Q4 & Q5 & Q6 & Q7 & Q8 & Q9 & Q10\\\\\n",
       "\\hline\n",
       "\tQ1 & 1.0000000 & 0.4050798 & 0.4257923 & 0.4522012 & 0.4693113 & 0.4069258 & 0.4786539 & 0.3864669 & 0.3781172 & 0.4924749\\\\\n",
       "\tQ2 & 0.4050798 & 1.0000000 & 0.6492208 & 0.4685826 & 0.4681348 & 0.2633589 & 0.3819102 & 0.3337100 & 0.4904494 & 0.4329908\\\\\n",
       "\tQ3 & 0.4257923 & 0.6492208 & 1.0000000 & 0.4718074 & 0.4996827 & 0.3487295 & 0.3831009 & 0.4415681 & 0.4443380 & 0.4724015\\\\\n",
       "\tQ4 & 0.4522012 & 0.4685826 & 0.4718074 & 1.0000000 & 0.5409508 & 0.4577199 & 0.4540685 & 0.4580557 & 0.5484912 & 0.4285152\\\\\n",
       "\tQ5 & 0.4693113 & 0.4681348 & 0.4996827 & 0.5409508 & 1.0000000 & 0.4098306 & 0.3614414 & 0.3655721 & 0.4828599 & 0.4379833\\\\\n",
       "\tQ6 & 0.4069258 & 0.2633589 & 0.3487295 & 0.4577199 & 0.4098306 & 1.0000000 & 0.6145128 & 0.5147971 & 0.5557026 & 0.3961426\\\\\n",
       "\tQ7 & 0.4786539 & 0.3819102 & 0.3831009 & 0.4540685 & 0.3614414 & 0.6145128 & 1.0000000 & 0.5729292 & 0.5905553 & 0.4457942\\\\\n",
       "\tQ8 & 0.3864669 & 0.3337100 & 0.4415681 & 0.4580557 & 0.3655721 & 0.5147971 & 0.5729292 & 1.0000000 & 0.5176080 & 0.4574640\\\\\n",
       "\tQ9 & 0.3781172 & 0.4904494 & 0.4443380 & 0.5484912 & 0.4828599 & 0.5557026 & 0.5905553 & 0.5176080 & 1.0000000 & 0.4959666\\\\\n",
       "\tQ10 & 0.4924749 & 0.4329908 & 0.4724015 & 0.4285152 & 0.4379833 & 0.3961426 & 0.4457942 & 0.4574640 & 0.4959666 & 1.0000000\\\\\n",
       "\\end{tabular}\n"
      ],
      "text/markdown": [
       "\n",
       "| <!--/--> | Q1 | Q2 | Q3 | Q4 | Q5 | Q6 | Q7 | Q8 | Q9 | Q10 |\n",
       "|---|---|---|---|---|---|---|---|---|---|---|\n",
       "| Q1 | 1.0000000 | 0.4050798 | 0.4257923 | 0.4522012 | 0.4693113 | 0.4069258 | 0.4786539 | 0.3864669 | 0.3781172 | 0.4924749 |\n",
       "| Q2 | 0.4050798 | 1.0000000 | 0.6492208 | 0.4685826 | 0.4681348 | 0.2633589 | 0.3819102 | 0.3337100 | 0.4904494 | 0.4329908 |\n",
       "| Q3 | 0.4257923 | 0.6492208 | 1.0000000 | 0.4718074 | 0.4996827 | 0.3487295 | 0.3831009 | 0.4415681 | 0.4443380 | 0.4724015 |\n",
       "| Q4 | 0.4522012 | 0.4685826 | 0.4718074 | 1.0000000 | 0.5409508 | 0.4577199 | 0.4540685 | 0.4580557 | 0.5484912 | 0.4285152 |\n",
       "| Q5 | 0.4693113 | 0.4681348 | 0.4996827 | 0.5409508 | 1.0000000 | 0.4098306 | 0.3614414 | 0.3655721 | 0.4828599 | 0.4379833 |\n",
       "| Q6 | 0.4069258 | 0.2633589 | 0.3487295 | 0.4577199 | 0.4098306 | 1.0000000 | 0.6145128 | 0.5147971 | 0.5557026 | 0.3961426 |\n",
       "| Q7 | 0.4786539 | 0.3819102 | 0.3831009 | 0.4540685 | 0.3614414 | 0.6145128 | 1.0000000 | 0.5729292 | 0.5905553 | 0.4457942 |\n",
       "| Q8 | 0.3864669 | 0.3337100 | 0.4415681 | 0.4580557 | 0.3655721 | 0.5147971 | 0.5729292 | 1.0000000 | 0.5176080 | 0.4574640 |\n",
       "| Q9 | 0.3781172 | 0.4904494 | 0.4443380 | 0.5484912 | 0.4828599 | 0.5557026 | 0.5905553 | 0.5176080 | 1.0000000 | 0.4959666 |\n",
       "| Q10 | 0.4924749 | 0.4329908 | 0.4724015 | 0.4285152 | 0.4379833 | 0.3961426 | 0.4457942 | 0.4574640 | 0.4959666 | 1.0000000 |\n",
       "\n"
      ],
      "text/plain": [
       "    Q1        Q2        Q3        Q4        Q5        Q6        Q7       \n",
       "Q1  1.0000000 0.4050798 0.4257923 0.4522012 0.4693113 0.4069258 0.4786539\n",
       "Q2  0.4050798 1.0000000 0.6492208 0.4685826 0.4681348 0.2633589 0.3819102\n",
       "Q3  0.4257923 0.6492208 1.0000000 0.4718074 0.4996827 0.3487295 0.3831009\n",
       "Q4  0.4522012 0.4685826 0.4718074 1.0000000 0.5409508 0.4577199 0.4540685\n",
       "Q5  0.4693113 0.4681348 0.4996827 0.5409508 1.0000000 0.4098306 0.3614414\n",
       "Q6  0.4069258 0.2633589 0.3487295 0.4577199 0.4098306 1.0000000 0.6145128\n",
       "Q7  0.4786539 0.3819102 0.3831009 0.4540685 0.3614414 0.6145128 1.0000000\n",
       "Q8  0.3864669 0.3337100 0.4415681 0.4580557 0.3655721 0.5147971 0.5729292\n",
       "Q9  0.3781172 0.4904494 0.4443380 0.5484912 0.4828599 0.5557026 0.5905553\n",
       "Q10 0.4924749 0.4329908 0.4724015 0.4285152 0.4379833 0.3961426 0.4457942\n",
       "    Q8        Q9        Q10      \n",
       "Q1  0.3864669 0.3781172 0.4924749\n",
       "Q2  0.3337100 0.4904494 0.4329908\n",
       "Q3  0.4415681 0.4443380 0.4724015\n",
       "Q4  0.4580557 0.5484912 0.4285152\n",
       "Q5  0.3655721 0.4828599 0.4379833\n",
       "Q6  0.5147971 0.5557026 0.3961426\n",
       "Q7  0.5729292 0.5905553 0.4457942\n",
       "Q8  1.0000000 0.5176080 0.4574640\n",
       "Q9  0.5176080 1.0000000 0.4959666\n",
       "Q10 0.4574640 0.4959666 1.0000000"
      ]
     },
     "metadata": {},
     "output_type": "display_data"
    }
   ],
   "source": [
    "# Descriptive statistics\n",
    "summary(x)\n",
    "cor(x)"
   ]
  },
  {
   "cell_type": "code",
   "execution_count": 75,
   "metadata": {},
   "outputs": [],
   "source": [
    "# Principal Component Analysis\n",
    "pcal <-princomp(x, score=TRUE, cor=TRUE)"
   ]
  },
  {
   "cell_type": "code",
   "execution_count": 76,
   "metadata": {},
   "outputs": [
    {
     "data": {
      "text/plain": [
       "\n",
       "Loadings:\n",
       "    Comp.1 Comp.2 Comp.3 Comp.4 Comp.5 Comp.6 Comp.7 Comp.8 Comp.9 Comp.10\n",
       "Q1   0.300         0.748         0.401         0.173  0.100  0.367        \n",
       "Q2   0.301  0.493 -0.316  0.178  0.269  0.277                      -0.606 \n",
       "Q3   0.317  0.415 -0.234  0.244  0.188 -0.274 -0.296 -0.335         0.548 \n",
       "Q4   0.328               -0.490        -0.195  0.661 -0.368 -0.163        \n",
       "Q5   0.311  0.260  0.184 -0.555 -0.189 -0.135 -0.460  0.422 -0.224        \n",
       "Q6   0.307 -0.468        -0.202  0.150        -0.451 -0.530  0.154 -0.326 \n",
       "Q7   0.328 -0.401         0.170  0.339  0.234         0.221 -0.647  0.244 \n",
       "Q8   0.312 -0.314 -0.188  0.292 -0.118 -0.694         0.317  0.159 -0.233 \n",
       "Q9   0.343 -0.154 -0.334 -0.127 -0.227  0.454  0.103  0.279  0.531  0.321 \n",
       "Q10  0.312         0.317  0.426 -0.698  0.202        -0.217 -0.190        \n",
       "\n",
       "               Comp.1 Comp.2 Comp.3 Comp.4 Comp.5 Comp.6 Comp.7 Comp.8 Comp.9\n",
       "SS loadings       1.0    1.0    1.0    1.0    1.0    1.0    1.0    1.0    1.0\n",
       "Proportion Var    0.1    0.1    0.1    0.1    0.1    0.1    0.1    0.1    0.1\n",
       "Cumulative Var    0.1    0.2    0.3    0.4    0.5    0.6    0.7    0.8    0.9\n",
       "               Comp.10\n",
       "SS loadings        1.0\n",
       "Proportion Var     0.1\n",
       "Cumulative Var     1.0"
      ]
     },
     "metadata": {},
     "output_type": "display_data"
    }
   ],
   "source": [
    "# Loading of Principal Components\n",
    "loadings(pcal)"
   ]
  },
  {
   "cell_type": "markdown",
   "metadata": {},
   "source": [
    "# Scree plot of eigenvalues"
   ]
  },
  {
   "cell_type": "code",
   "execution_count": 78,
   "metadata": {},
   "outputs": [
    {
     "data": {
      "image/png": "[encoded data removed]",
      "text/plain": [
       "Plot with title \"pcal\""
      ]
     },
     "metadata": {},
     "output_type": "display_data"
    },
    {
     "data": {
      "image/png": "[encoded data removed]",
      "text/plain": [
       "Plot with title \"scree plot\""
      ]
     },
     "metadata": {},
     "output_type": "display_data"
    }
   ],
   "source": [
    "plot(pcal)\n",
    "screeplot(pcal, type=\"line\", main=\"scree plot\")"
   ]
  },
  {
   "cell_type": "markdown",
   "metadata": {},
   "source": [
    "# Biplot of score variables"
   ]
  },
  {
   "cell_type": "code",
   "execution_count": 79,
   "metadata": {},
   "outputs": [
    {
     "data": {
      "image/png": "[encoded data removed]",
      "text/plain": [
       "plot without title"
      ]
     },
     "metadata": {},
     "output_type": "display_data"
    }
   ],
   "source": [
    "biplot(pcal)"
   ]
  },
  {
   "cell_type": "markdown",
   "metadata": {},
   "source": [
    "# Scores of the components"
   ]
  },
  {
   "cell_type": "code",
   "execution_count": 80,
   "metadata": {},
   "outputs": [
    {
     "data": {
      "text/html": [
       "<table>\n",
       "<thead><tr><th scope=col>Comp.1</th><th scope=col>Comp.2</th><th scope=col>Comp.3</th><th scope=col>Comp.4</th><th scope=col>Comp.5</th><th scope=col>Comp.6</th><th scope=col>Comp.7</th><th scope=col>Comp.8</th><th scope=col>Comp.9</th><th scope=col>Comp.10</th></tr></thead>\n",
       "<tbody>\n",
       "\t<tr><td>-0.003812883</td><td>-0.8015228  </td><td>-0.19592118 </td><td>-0.28013066 </td><td>-0.08145022 </td><td>-0.10118168 </td><td> 0.017909599</td><td> 0.048062247</td><td>-0.3259999  </td><td> 0.06148425 </td></tr>\n",
       "\t<tr><td>-0.003812883</td><td>-0.8015228  </td><td>-0.19592118 </td><td>-0.28013066 </td><td>-0.08145022 </td><td>-0.10118168 </td><td> 0.017909599</td><td> 0.048062247</td><td>-0.3259999  </td><td> 0.06148425 </td></tr>\n",
       "\t<tr><td> 0.596143178</td><td> 1.2695564  </td><td> 0.22977030 </td><td>-0.04821328 </td><td> 0.87879485 </td><td> 0.44538590 </td><td>-0.218273592</td><td>-0.719012828</td><td> 0.5846564  </td><td> 0.08806725 </td></tr>\n",
       "\t<tr><td>-0.875869418</td><td>-1.1333082  </td><td> 0.85585145 </td><td>-1.79021130 </td><td> 1.12003654 </td><td> 0.63710987 </td><td> 0.091045715</td><td>-0.090275223</td><td> 0.9225934  </td><td>-0.83663762 </td></tr>\n",
       "\t<tr><td> 0.376895706</td><td>-0.7161113  </td><td> 0.75137594 </td><td>-0.16335073 </td><td> 0.42674146 </td><td>-0.09076908 </td><td> 0.236622399</td><td> 0.175136402</td><td> 0.1396950  </td><td> 0.11937479 </td></tr>\n",
       "\t<tr><td> 0.826336668</td><td>-0.1264317  </td><td> 0.41931931 </td><td> 0.18343099 </td><td> 0.69291777 </td><td>-0.47933376 </td><td>-0.183856504</td><td>-0.300515603</td><td> 0.2013923  </td><td> 0.89739799 </td></tr>\n",
       "\t<tr><td> 1.458883320</td><td>-0.9125191  </td><td> 0.19599997 </td><td> 0.31166255 </td><td> 0.70582975 </td><td>-1.15091593 </td><td>-0.518098054</td><td>-0.456099215</td><td> 0.5209077  </td><td> 0.33440187 </td></tr>\n",
       "\t<tr><td> 3.822782844</td><td>-0.2915992  </td><td>-0.07951738 </td><td>-0.09149603 </td><td>-0.22301210 </td><td>-0.09244457 </td><td>-0.009304249</td><td> 0.002878936</td><td>-0.1990356  </td><td> 0.01941554 </td></tr>\n",
       "\t<tr><td> 2.750673409</td><td>-0.3235139  </td><td>-0.19968341 </td><td> 1.01013096 </td><td>-0.20783463 </td><td> 0.08691549 </td><td>-0.285656045</td><td>-0.286818154</td><td> 0.8677540  </td><td>-0.20604903 </td></tr>\n",
       "\t<tr><td>-0.003812883</td><td>-0.8015228  </td><td>-0.19592118 </td><td>-0.28013066 </td><td>-0.08145022 </td><td>-0.10118168 </td><td> 0.017909599</td><td> 0.048062247</td><td>-0.3259999  </td><td> 0.06148425 </td></tr>\n",
       "</tbody>\n",
       "</table>\n"
      ],
      "text/latex": [
       "\\begin{tabular}{llllllllll}\n",
       " Comp.1 & Comp.2 & Comp.3 & Comp.4 & Comp.5 & Comp.6 & Comp.7 & Comp.8 & Comp.9 & Comp.10\\\\\n",
       "\\hline\n",
       "\t -0.003812883 & -0.8015228   & -0.19592118  & -0.28013066  & -0.08145022  & -0.10118168  &  0.017909599 &  0.048062247 & -0.3259999   &  0.06148425 \\\\\n",
       "\t -0.003812883 & -0.8015228   & -0.19592118  & -0.28013066  & -0.08145022  & -0.10118168  &  0.017909599 &  0.048062247 & -0.3259999   &  0.06148425 \\\\\n",
       "\t  0.596143178 &  1.2695564   &  0.22977030  & -0.04821328  &  0.87879485  &  0.44538590  & -0.218273592 & -0.719012828 &  0.5846564   &  0.08806725 \\\\\n",
       "\t -0.875869418 & -1.1333082   &  0.85585145  & -1.79021130  &  1.12003654  &  0.63710987  &  0.091045715 & -0.090275223 &  0.9225934   & -0.83663762 \\\\\n",
       "\t  0.376895706 & -0.7161113   &  0.75137594  & -0.16335073  &  0.42674146  & -0.09076908  &  0.236622399 &  0.175136402 &  0.1396950   &  0.11937479 \\\\\n",
       "\t  0.826336668 & -0.1264317   &  0.41931931  &  0.18343099  &  0.69291777  & -0.47933376  & -0.183856504 & -0.300515603 &  0.2013923   &  0.89739799 \\\\\n",
       "\t  1.458883320 & -0.9125191   &  0.19599997  &  0.31166255  &  0.70582975  & -1.15091593  & -0.518098054 & -0.456099215 &  0.5209077   &  0.33440187 \\\\\n",
       "\t  3.822782844 & -0.2915992   & -0.07951738  & -0.09149603  & -0.22301210  & -0.09244457  & -0.009304249 &  0.002878936 & -0.1990356   &  0.01941554 \\\\\n",
       "\t  2.750673409 & -0.3235139   & -0.19968341  &  1.01013096  & -0.20783463  &  0.08691549  & -0.285656045 & -0.286818154 &  0.8677540   & -0.20604903 \\\\\n",
       "\t -0.003812883 & -0.8015228   & -0.19592118  & -0.28013066  & -0.08145022  & -0.10118168  &  0.017909599 &  0.048062247 & -0.3259999   &  0.06148425 \\\\\n",
       "\\end{tabular}\n"
      ],
      "text/markdown": [
       "\n",
       "| Comp.1 | Comp.2 | Comp.3 | Comp.4 | Comp.5 | Comp.6 | Comp.7 | Comp.8 | Comp.9 | Comp.10 |\n",
       "|---|---|---|---|---|---|---|---|---|---|\n",
       "| -0.003812883 | -0.8015228   | -0.19592118  | -0.28013066  | -0.08145022  | -0.10118168  |  0.017909599 |  0.048062247 | -0.3259999   |  0.06148425  |\n",
       "| -0.003812883 | -0.8015228   | -0.19592118  | -0.28013066  | -0.08145022  | -0.10118168  |  0.017909599 |  0.048062247 | -0.3259999   |  0.06148425  |\n",
       "|  0.596143178 |  1.2695564   |  0.22977030  | -0.04821328  |  0.87879485  |  0.44538590  | -0.218273592 | -0.719012828 |  0.5846564   |  0.08806725  |\n",
       "| -0.875869418 | -1.1333082   |  0.85585145  | -1.79021130  |  1.12003654  |  0.63710987  |  0.091045715 | -0.090275223 |  0.9225934   | -0.83663762  |\n",
       "|  0.376895706 | -0.7161113   |  0.75137594  | -0.16335073  |  0.42674146  | -0.09076908  |  0.236622399 |  0.175136402 |  0.1396950   |  0.11937479  |\n",
       "|  0.826336668 | -0.1264317   |  0.41931931  |  0.18343099  |  0.69291777  | -0.47933376  | -0.183856504 | -0.300515603 |  0.2013923   |  0.89739799  |\n",
       "|  1.458883320 | -0.9125191   |  0.19599997  |  0.31166255  |  0.70582975  | -1.15091593  | -0.518098054 | -0.456099215 |  0.5209077   |  0.33440187  |\n",
       "|  3.822782844 | -0.2915992   | -0.07951738  | -0.09149603  | -0.22301210  | -0.09244457  | -0.009304249 |  0.002878936 | -0.1990356   |  0.01941554  |\n",
       "|  2.750673409 | -0.3235139   | -0.19968341  |  1.01013096  | -0.20783463  |  0.08691549  | -0.285656045 | -0.286818154 |  0.8677540   | -0.20604903  |\n",
       "| -0.003812883 | -0.8015228   | -0.19592118  | -0.28013066  | -0.08145022  | -0.10118168  |  0.017909599 |  0.048062247 | -0.3259999   |  0.06148425  |\n",
       "\n"
      ],
      "text/plain": [
       "      Comp.1       Comp.2     Comp.3      Comp.4      Comp.5      Comp.6     \n",
       " [1,] -0.003812883 -0.8015228 -0.19592118 -0.28013066 -0.08145022 -0.10118168\n",
       " [2,] -0.003812883 -0.8015228 -0.19592118 -0.28013066 -0.08145022 -0.10118168\n",
       " [3,]  0.596143178  1.2695564  0.22977030 -0.04821328  0.87879485  0.44538590\n",
       " [4,] -0.875869418 -1.1333082  0.85585145 -1.79021130  1.12003654  0.63710987\n",
       " [5,]  0.376895706 -0.7161113  0.75137594 -0.16335073  0.42674146 -0.09076908\n",
       " [6,]  0.826336668 -0.1264317  0.41931931  0.18343099  0.69291777 -0.47933376\n",
       " [7,]  1.458883320 -0.9125191  0.19599997  0.31166255  0.70582975 -1.15091593\n",
       " [8,]  3.822782844 -0.2915992 -0.07951738 -0.09149603 -0.22301210 -0.09244457\n",
       " [9,]  2.750673409 -0.3235139 -0.19968341  1.01013096 -0.20783463  0.08691549\n",
       "[10,] -0.003812883 -0.8015228 -0.19592118 -0.28013066 -0.08145022 -0.10118168\n",
       "      Comp.7       Comp.8       Comp.9     Comp.10    \n",
       " [1,]  0.017909599  0.048062247 -0.3259999  0.06148425\n",
       " [2,]  0.017909599  0.048062247 -0.3259999  0.06148425\n",
       " [3,] -0.218273592 -0.719012828  0.5846564  0.08806725\n",
       " [4,]  0.091045715 -0.090275223  0.9225934 -0.83663762\n",
       " [5,]  0.236622399  0.175136402  0.1396950  0.11937479\n",
       " [6,] -0.183856504 -0.300515603  0.2013923  0.89739799\n",
       " [7,] -0.518098054 -0.456099215  0.5209077  0.33440187\n",
       " [8,] -0.009304249  0.002878936 -0.1990356  0.01941554\n",
       " [9,] -0.285656045 -0.286818154  0.8677540 -0.20604903\n",
       "[10,]  0.017909599  0.048062247 -0.3259999  0.06148425"
      ]
     },
     "metadata": {},
     "output_type": "display_data"
    }
   ],
   "source": [
    "pcal$scores[1:10,]"
   ]
  },
  {
   "cell_type": "code",
   "execution_count": null,
   "metadata": {},
   "outputs": [],
   "source": []
  }
 ],
 "metadata": {
  "kernelspec": {
   "display_name": "R",
   "language": "R",
   "name": "ir"
  },
  "language_info": {
   "codemirror_mode": "r",
   "file_extension": ".r",
   "mimetype": "text/x-r-source",
   "name": "R",
   "pygments_lexer": "r",
   "version": "3.6.1"
  }
 },
 "nbformat": 4,
 "nbformat_minor": 4
}
